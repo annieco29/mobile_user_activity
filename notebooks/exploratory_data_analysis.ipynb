{
 "cells": [
  {
   "cell_type": "markdown",
   "metadata": {},
   "source": [
    "# Mobile User Engagement EDA using Agent"
   ]
  },
  {
   "cell_type": "markdown",
   "metadata": {},
   "source": [
    "## Import packages"
   ]
  },
  {
   "cell_type": "code",
   "execution_count": 1,
   "metadata": {},
   "outputs": [
    {
     "name": "stdout",
     "output_type": "stream",
     "text": [
      "Requirement already satisfied: langchain_openai in /Users/anniecondon/anaconda3/envs/mobile_user_engage/lib/python3.11/site-packages (0.2.1)\n",
      "Requirement already satisfied: langchain-core<0.4,>=0.3 in /Users/anniecondon/anaconda3/envs/mobile_user_engage/lib/python3.11/site-packages (from langchain_openai) (0.3.8)\n",
      "Requirement already satisfied: openai<2.0.0,>=1.40.0 in /Users/anniecondon/anaconda3/envs/mobile_user_engage/lib/python3.11/site-packages (from langchain_openai) (1.51.0)\n",
      "Requirement already satisfied: tiktoken<1,>=0.7 in /Users/anniecondon/anaconda3/envs/mobile_user_engage/lib/python3.11/site-packages (from langchain_openai) (0.8.0)\n",
      "Requirement already satisfied: PyYAML>=5.3 in /Users/anniecondon/anaconda3/envs/mobile_user_engage/lib/python3.11/site-packages (from langchain-core<0.4,>=0.3->langchain_openai) (6.0.2)\n",
      "Requirement already satisfied: jsonpatch<2.0,>=1.33 in /Users/anniecondon/anaconda3/envs/mobile_user_engage/lib/python3.11/site-packages (from langchain-core<0.4,>=0.3->langchain_openai) (1.33)\n",
      "Requirement already satisfied: langsmith<0.2.0,>=0.1.125 in /Users/anniecondon/anaconda3/envs/mobile_user_engage/lib/python3.11/site-packages (from langchain-core<0.4,>=0.3->langchain_openai) (0.1.131)\n",
      "Requirement already satisfied: packaging<25,>=23.2 in /Users/anniecondon/anaconda3/envs/mobile_user_engage/lib/python3.11/site-packages (from langchain-core<0.4,>=0.3->langchain_openai) (24.1)\n",
      "Requirement already satisfied: pydantic<3.0.0,>=2.5.2 in /Users/anniecondon/anaconda3/envs/mobile_user_engage/lib/python3.11/site-packages (from langchain-core<0.4,>=0.3->langchain_openai) (2.9.2)\n",
      "Requirement already satisfied: tenacity!=8.4.0,<9.0.0,>=8.1.0 in /Users/anniecondon/anaconda3/envs/mobile_user_engage/lib/python3.11/site-packages (from langchain-core<0.4,>=0.3->langchain_openai) (8.5.0)\n",
      "Requirement already satisfied: typing-extensions>=4.7 in /Users/anniecondon/anaconda3/envs/mobile_user_engage/lib/python3.11/site-packages (from langchain-core<0.4,>=0.3->langchain_openai) (4.12.2)\n",
      "Requirement already satisfied: anyio<5,>=3.5.0 in /Users/anniecondon/anaconda3/envs/mobile_user_engage/lib/python3.11/site-packages (from openai<2.0.0,>=1.40.0->langchain_openai) (4.6.0)\n",
      "Requirement already satisfied: distro<2,>=1.7.0 in /Users/anniecondon/anaconda3/envs/mobile_user_engage/lib/python3.11/site-packages (from openai<2.0.0,>=1.40.0->langchain_openai) (1.9.0)\n",
      "Requirement already satisfied: httpx<1,>=0.23.0 in /Users/anniecondon/anaconda3/envs/mobile_user_engage/lib/python3.11/site-packages (from openai<2.0.0,>=1.40.0->langchain_openai) (0.27.2)\n",
      "Requirement already satisfied: jiter<1,>=0.4.0 in /Users/anniecondon/anaconda3/envs/mobile_user_engage/lib/python3.11/site-packages (from openai<2.0.0,>=1.40.0->langchain_openai) (0.5.0)\n",
      "Requirement already satisfied: sniffio in /Users/anniecondon/anaconda3/envs/mobile_user_engage/lib/python3.11/site-packages (from openai<2.0.0,>=1.40.0->langchain_openai) (1.3.1)\n",
      "Requirement already satisfied: tqdm>4 in /Users/anniecondon/anaconda3/envs/mobile_user_engage/lib/python3.11/site-packages (from openai<2.0.0,>=1.40.0->langchain_openai) (4.66.5)\n",
      "Requirement already satisfied: regex>=2022.1.18 in /Users/anniecondon/anaconda3/envs/mobile_user_engage/lib/python3.11/site-packages (from tiktoken<1,>=0.7->langchain_openai) (2024.9.11)\n",
      "Requirement already satisfied: requests>=2.26.0 in /Users/anniecondon/anaconda3/envs/mobile_user_engage/lib/python3.11/site-packages (from tiktoken<1,>=0.7->langchain_openai) (2.32.3)\n",
      "Requirement already satisfied: idna>=2.8 in /Users/anniecondon/anaconda3/envs/mobile_user_engage/lib/python3.11/site-packages (from anyio<5,>=3.5.0->openai<2.0.0,>=1.40.0->langchain_openai) (3.10)\n",
      "Requirement already satisfied: certifi in /Users/anniecondon/anaconda3/envs/mobile_user_engage/lib/python3.11/site-packages (from httpx<1,>=0.23.0->openai<2.0.0,>=1.40.0->langchain_openai) (2024.8.30)\n",
      "Requirement already satisfied: httpcore==1.* in /Users/anniecondon/anaconda3/envs/mobile_user_engage/lib/python3.11/site-packages (from httpx<1,>=0.23.0->openai<2.0.0,>=1.40.0->langchain_openai) (1.0.6)\n",
      "Requirement already satisfied: h11<0.15,>=0.13 in /Users/anniecondon/anaconda3/envs/mobile_user_engage/lib/python3.11/site-packages (from httpcore==1.*->httpx<1,>=0.23.0->openai<2.0.0,>=1.40.0->langchain_openai) (0.14.0)\n",
      "Requirement already satisfied: jsonpointer>=1.9 in /Users/anniecondon/anaconda3/envs/mobile_user_engage/lib/python3.11/site-packages (from jsonpatch<2.0,>=1.33->langchain-core<0.4,>=0.3->langchain_openai) (3.0.0)\n",
      "Requirement already satisfied: orjson<4.0.0,>=3.9.14 in /Users/anniecondon/anaconda3/envs/mobile_user_engage/lib/python3.11/site-packages (from langsmith<0.2.0,>=0.1.125->langchain-core<0.4,>=0.3->langchain_openai) (3.10.7)\n",
      "Requirement already satisfied: requests-toolbelt<2.0.0,>=1.0.0 in /Users/anniecondon/anaconda3/envs/mobile_user_engage/lib/python3.11/site-packages (from langsmith<0.2.0,>=0.1.125->langchain-core<0.4,>=0.3->langchain_openai) (1.0.0)\n",
      "Requirement already satisfied: annotated-types>=0.6.0 in /Users/anniecondon/anaconda3/envs/mobile_user_engage/lib/python3.11/site-packages (from pydantic<3.0.0,>=2.5.2->langchain-core<0.4,>=0.3->langchain_openai) (0.7.0)\n",
      "Requirement already satisfied: pydantic-core==2.23.4 in /Users/anniecondon/anaconda3/envs/mobile_user_engage/lib/python3.11/site-packages (from pydantic<3.0.0,>=2.5.2->langchain-core<0.4,>=0.3->langchain_openai) (2.23.4)\n",
      "Requirement already satisfied: charset-normalizer<4,>=2 in /Users/anniecondon/anaconda3/envs/mobile_user_engage/lib/python3.11/site-packages (from requests>=2.26.0->tiktoken<1,>=0.7->langchain_openai) (3.3.2)\n",
      "Requirement already satisfied: urllib3<3,>=1.21.1 in /Users/anniecondon/anaconda3/envs/mobile_user_engage/lib/python3.11/site-packages (from requests>=2.26.0->tiktoken<1,>=0.7->langchain_openai) (2.2.3)\n",
      "Note: you may need to restart the kernel to use updated packages.\n",
      "Requirement already satisfied: langchain_core in /Users/anniecondon/anaconda3/envs/mobile_user_engage/lib/python3.11/site-packages (0.3.8)\n",
      "Requirement already satisfied: PyYAML>=5.3 in /Users/anniecondon/anaconda3/envs/mobile_user_engage/lib/python3.11/site-packages (from langchain_core) (6.0.2)\n",
      "Requirement already satisfied: jsonpatch<2.0,>=1.33 in /Users/anniecondon/anaconda3/envs/mobile_user_engage/lib/python3.11/site-packages (from langchain_core) (1.33)\n",
      "Requirement already satisfied: langsmith<0.2.0,>=0.1.125 in /Users/anniecondon/anaconda3/envs/mobile_user_engage/lib/python3.11/site-packages (from langchain_core) (0.1.131)\n",
      "Requirement already satisfied: packaging<25,>=23.2 in /Users/anniecondon/anaconda3/envs/mobile_user_engage/lib/python3.11/site-packages (from langchain_core) (24.1)\n",
      "Requirement already satisfied: pydantic<3.0.0,>=2.5.2 in /Users/anniecondon/anaconda3/envs/mobile_user_engage/lib/python3.11/site-packages (from langchain_core) (2.9.2)\n",
      "Requirement already satisfied: tenacity!=8.4.0,<9.0.0,>=8.1.0 in /Users/anniecondon/anaconda3/envs/mobile_user_engage/lib/python3.11/site-packages (from langchain_core) (8.5.0)\n",
      "Requirement already satisfied: typing-extensions>=4.7 in /Users/anniecondon/anaconda3/envs/mobile_user_engage/lib/python3.11/site-packages (from langchain_core) (4.12.2)\n",
      "Requirement already satisfied: jsonpointer>=1.9 in /Users/anniecondon/anaconda3/envs/mobile_user_engage/lib/python3.11/site-packages (from jsonpatch<2.0,>=1.33->langchain_core) (3.0.0)\n",
      "Requirement already satisfied: httpx<1,>=0.23.0 in /Users/anniecondon/anaconda3/envs/mobile_user_engage/lib/python3.11/site-packages (from langsmith<0.2.0,>=0.1.125->langchain_core) (0.27.2)\n",
      "Requirement already satisfied: orjson<4.0.0,>=3.9.14 in /Users/anniecondon/anaconda3/envs/mobile_user_engage/lib/python3.11/site-packages (from langsmith<0.2.0,>=0.1.125->langchain_core) (3.10.7)\n",
      "Requirement already satisfied: requests<3,>=2 in /Users/anniecondon/anaconda3/envs/mobile_user_engage/lib/python3.11/site-packages (from langsmith<0.2.0,>=0.1.125->langchain_core) (2.32.3)\n",
      "Requirement already satisfied: requests-toolbelt<2.0.0,>=1.0.0 in /Users/anniecondon/anaconda3/envs/mobile_user_engage/lib/python3.11/site-packages (from langsmith<0.2.0,>=0.1.125->langchain_core) (1.0.0)\n",
      "Requirement already satisfied: annotated-types>=0.6.0 in /Users/anniecondon/anaconda3/envs/mobile_user_engage/lib/python3.11/site-packages (from pydantic<3.0.0,>=2.5.2->langchain_core) (0.7.0)\n",
      "Requirement already satisfied: pydantic-core==2.23.4 in /Users/anniecondon/anaconda3/envs/mobile_user_engage/lib/python3.11/site-packages (from pydantic<3.0.0,>=2.5.2->langchain_core) (2.23.4)\n",
      "Requirement already satisfied: anyio in /Users/anniecondon/anaconda3/envs/mobile_user_engage/lib/python3.11/site-packages (from httpx<1,>=0.23.0->langsmith<0.2.0,>=0.1.125->langchain_core) (4.6.0)\n",
      "Requirement already satisfied: certifi in /Users/anniecondon/anaconda3/envs/mobile_user_engage/lib/python3.11/site-packages (from httpx<1,>=0.23.0->langsmith<0.2.0,>=0.1.125->langchain_core) (2024.8.30)\n",
      "Requirement already satisfied: httpcore==1.* in /Users/anniecondon/anaconda3/envs/mobile_user_engage/lib/python3.11/site-packages (from httpx<1,>=0.23.0->langsmith<0.2.0,>=0.1.125->langchain_core) (1.0.6)\n",
      "Requirement already satisfied: idna in /Users/anniecondon/anaconda3/envs/mobile_user_engage/lib/python3.11/site-packages (from httpx<1,>=0.23.0->langsmith<0.2.0,>=0.1.125->langchain_core) (3.10)\n",
      "Requirement already satisfied: sniffio in /Users/anniecondon/anaconda3/envs/mobile_user_engage/lib/python3.11/site-packages (from httpx<1,>=0.23.0->langsmith<0.2.0,>=0.1.125->langchain_core) (1.3.1)\n",
      "Requirement already satisfied: h11<0.15,>=0.13 in /Users/anniecondon/anaconda3/envs/mobile_user_engage/lib/python3.11/site-packages (from httpcore==1.*->httpx<1,>=0.23.0->langsmith<0.2.0,>=0.1.125->langchain_core) (0.14.0)\n",
      "Requirement already satisfied: charset-normalizer<4,>=2 in /Users/anniecondon/anaconda3/envs/mobile_user_engage/lib/python3.11/site-packages (from requests<3,>=2->langsmith<0.2.0,>=0.1.125->langchain_core) (3.3.2)\n",
      "Requirement already satisfied: urllib3<3,>=1.21.1 in /Users/anniecondon/anaconda3/envs/mobile_user_engage/lib/python3.11/site-packages (from requests<3,>=2->langsmith<0.2.0,>=0.1.125->langchain_core) (2.2.3)\n",
      "Note: you may need to restart the kernel to use updated packages.\n",
      "Requirement already satisfied: langchain_community in /Users/anniecondon/anaconda3/envs/mobile_user_engage/lib/python3.11/site-packages (0.3.1)\n",
      "Requirement already satisfied: PyYAML>=5.3 in /Users/anniecondon/anaconda3/envs/mobile_user_engage/lib/python3.11/site-packages (from langchain_community) (6.0.2)\n",
      "Requirement already satisfied: SQLAlchemy<3,>=1.4 in /Users/anniecondon/anaconda3/envs/mobile_user_engage/lib/python3.11/site-packages (from langchain_community) (2.0.35)\n",
      "Requirement already satisfied: aiohttp<4.0.0,>=3.8.3 in /Users/anniecondon/anaconda3/envs/mobile_user_engage/lib/python3.11/site-packages (from langchain_community) (3.10.8)\n",
      "Requirement already satisfied: dataclasses-json<0.7,>=0.5.7 in /Users/anniecondon/anaconda3/envs/mobile_user_engage/lib/python3.11/site-packages (from langchain_community) (0.6.7)\n",
      "Requirement already satisfied: langchain<0.4.0,>=0.3.1 in /Users/anniecondon/anaconda3/envs/mobile_user_engage/lib/python3.11/site-packages (from langchain_community) (0.3.2)\n",
      "Requirement already satisfied: langchain-core<0.4.0,>=0.3.6 in /Users/anniecondon/anaconda3/envs/mobile_user_engage/lib/python3.11/site-packages (from langchain_community) (0.3.8)\n",
      "Requirement already satisfied: langsmith<0.2.0,>=0.1.125 in /Users/anniecondon/anaconda3/envs/mobile_user_engage/lib/python3.11/site-packages (from langchain_community) (0.1.131)\n",
      "Requirement already satisfied: numpy<2,>=1 in /Users/anniecondon/anaconda3/envs/mobile_user_engage/lib/python3.11/site-packages (from langchain_community) (1.26.4)\n",
      "Requirement already satisfied: pydantic-settings<3.0.0,>=2.4.0 in /Users/anniecondon/anaconda3/envs/mobile_user_engage/lib/python3.11/site-packages (from langchain_community) (2.5.2)\n",
      "Requirement already satisfied: requests<3,>=2 in /Users/anniecondon/anaconda3/envs/mobile_user_engage/lib/python3.11/site-packages (from langchain_community) (2.32.3)\n",
      "Requirement already satisfied: tenacity!=8.4.0,<9.0.0,>=8.1.0 in /Users/anniecondon/anaconda3/envs/mobile_user_engage/lib/python3.11/site-packages (from langchain_community) (8.5.0)\n",
      "Requirement already satisfied: aiohappyeyeballs>=2.3.0 in /Users/anniecondon/anaconda3/envs/mobile_user_engage/lib/python3.11/site-packages (from aiohttp<4.0.0,>=3.8.3->langchain_community) (2.4.3)\n",
      "Requirement already satisfied: aiosignal>=1.1.2 in /Users/anniecondon/anaconda3/envs/mobile_user_engage/lib/python3.11/site-packages (from aiohttp<4.0.0,>=3.8.3->langchain_community) (1.3.1)\n",
      "Requirement already satisfied: attrs>=17.3.0 in /Users/anniecondon/anaconda3/envs/mobile_user_engage/lib/python3.11/site-packages (from aiohttp<4.0.0,>=3.8.3->langchain_community) (24.2.0)\n",
      "Requirement already satisfied: frozenlist>=1.1.1 in /Users/anniecondon/anaconda3/envs/mobile_user_engage/lib/python3.11/site-packages (from aiohttp<4.0.0,>=3.8.3->langchain_community) (1.4.1)\n",
      "Requirement already satisfied: multidict<7.0,>=4.5 in /Users/anniecondon/anaconda3/envs/mobile_user_engage/lib/python3.11/site-packages (from aiohttp<4.0.0,>=3.8.3->langchain_community) (6.1.0)\n",
      "Requirement already satisfied: yarl<2.0,>=1.12.0 in /Users/anniecondon/anaconda3/envs/mobile_user_engage/lib/python3.11/site-packages (from aiohttp<4.0.0,>=3.8.3->langchain_community) (1.13.1)\n",
      "Requirement already satisfied: marshmallow<4.0.0,>=3.18.0 in /Users/anniecondon/anaconda3/envs/mobile_user_engage/lib/python3.11/site-packages (from dataclasses-json<0.7,>=0.5.7->langchain_community) (3.22.0)\n",
      "Requirement already satisfied: typing-inspect<1,>=0.4.0 in /Users/anniecondon/anaconda3/envs/mobile_user_engage/lib/python3.11/site-packages (from dataclasses-json<0.7,>=0.5.7->langchain_community) (0.9.0)\n",
      "Requirement already satisfied: langchain-text-splitters<0.4.0,>=0.3.0 in /Users/anniecondon/anaconda3/envs/mobile_user_engage/lib/python3.11/site-packages (from langchain<0.4.0,>=0.3.1->langchain_community) (0.3.0)\n",
      "Requirement already satisfied: pydantic<3.0.0,>=2.7.4 in /Users/anniecondon/anaconda3/envs/mobile_user_engage/lib/python3.11/site-packages (from langchain<0.4.0,>=0.3.1->langchain_community) (2.9.2)\n",
      "Requirement already satisfied: jsonpatch<2.0,>=1.33 in /Users/anniecondon/anaconda3/envs/mobile_user_engage/lib/python3.11/site-packages (from langchain-core<0.4.0,>=0.3.6->langchain_community) (1.33)\n",
      "Requirement already satisfied: packaging<25,>=23.2 in /Users/anniecondon/anaconda3/envs/mobile_user_engage/lib/python3.11/site-packages (from langchain-core<0.4.0,>=0.3.6->langchain_community) (24.1)\n",
      "Requirement already satisfied: typing-extensions>=4.7 in /Users/anniecondon/anaconda3/envs/mobile_user_engage/lib/python3.11/site-packages (from langchain-core<0.4.0,>=0.3.6->langchain_community) (4.12.2)\n",
      "Requirement already satisfied: httpx<1,>=0.23.0 in /Users/anniecondon/anaconda3/envs/mobile_user_engage/lib/python3.11/site-packages (from langsmith<0.2.0,>=0.1.125->langchain_community) (0.27.2)\n",
      "Requirement already satisfied: orjson<4.0.0,>=3.9.14 in /Users/anniecondon/anaconda3/envs/mobile_user_engage/lib/python3.11/site-packages (from langsmith<0.2.0,>=0.1.125->langchain_community) (3.10.7)\n",
      "Requirement already satisfied: requests-toolbelt<2.0.0,>=1.0.0 in /Users/anniecondon/anaconda3/envs/mobile_user_engage/lib/python3.11/site-packages (from langsmith<0.2.0,>=0.1.125->langchain_community) (1.0.0)\n",
      "Requirement already satisfied: python-dotenv>=0.21.0 in /Users/anniecondon/anaconda3/envs/mobile_user_engage/lib/python3.11/site-packages (from pydantic-settings<3.0.0,>=2.4.0->langchain_community) (1.0.1)\n",
      "Requirement already satisfied: charset-normalizer<4,>=2 in /Users/anniecondon/anaconda3/envs/mobile_user_engage/lib/python3.11/site-packages (from requests<3,>=2->langchain_community) (3.3.2)\n",
      "Requirement already satisfied: idna<4,>=2.5 in /Users/anniecondon/anaconda3/envs/mobile_user_engage/lib/python3.11/site-packages (from requests<3,>=2->langchain_community) (3.10)\n",
      "Requirement already satisfied: urllib3<3,>=1.21.1 in /Users/anniecondon/anaconda3/envs/mobile_user_engage/lib/python3.11/site-packages (from requests<3,>=2->langchain_community) (2.2.3)\n",
      "Requirement already satisfied: certifi>=2017.4.17 in /Users/anniecondon/anaconda3/envs/mobile_user_engage/lib/python3.11/site-packages (from requests<3,>=2->langchain_community) (2024.8.30)\n",
      "Requirement already satisfied: anyio in /Users/anniecondon/anaconda3/envs/mobile_user_engage/lib/python3.11/site-packages (from httpx<1,>=0.23.0->langsmith<0.2.0,>=0.1.125->langchain_community) (4.6.0)\n",
      "Requirement already satisfied: httpcore==1.* in /Users/anniecondon/anaconda3/envs/mobile_user_engage/lib/python3.11/site-packages (from httpx<1,>=0.23.0->langsmith<0.2.0,>=0.1.125->langchain_community) (1.0.6)\n",
      "Requirement already satisfied: sniffio in /Users/anniecondon/anaconda3/envs/mobile_user_engage/lib/python3.11/site-packages (from httpx<1,>=0.23.0->langsmith<0.2.0,>=0.1.125->langchain_community) (1.3.1)\n",
      "Requirement already satisfied: h11<0.15,>=0.13 in /Users/anniecondon/anaconda3/envs/mobile_user_engage/lib/python3.11/site-packages (from httpcore==1.*->httpx<1,>=0.23.0->langsmith<0.2.0,>=0.1.125->langchain_community) (0.14.0)\n",
      "Requirement already satisfied: jsonpointer>=1.9 in /Users/anniecondon/anaconda3/envs/mobile_user_engage/lib/python3.11/site-packages (from jsonpatch<2.0,>=1.33->langchain-core<0.4.0,>=0.3.6->langchain_community) (3.0.0)\n",
      "Requirement already satisfied: annotated-types>=0.6.0 in /Users/anniecondon/anaconda3/envs/mobile_user_engage/lib/python3.11/site-packages (from pydantic<3.0.0,>=2.7.4->langchain<0.4.0,>=0.3.1->langchain_community) (0.7.0)\n",
      "Requirement already satisfied: pydantic-core==2.23.4 in /Users/anniecondon/anaconda3/envs/mobile_user_engage/lib/python3.11/site-packages (from pydantic<3.0.0,>=2.7.4->langchain<0.4.0,>=0.3.1->langchain_community) (2.23.4)\n",
      "Requirement already satisfied: mypy-extensions>=0.3.0 in /Users/anniecondon/anaconda3/envs/mobile_user_engage/lib/python3.11/site-packages (from typing-inspect<1,>=0.4.0->dataclasses-json<0.7,>=0.5.7->langchain_community) (1.0.0)\n",
      "Note: you may need to restart the kernel to use updated packages.\n",
      "Requirement already satisfied: langchain_experimental in /Users/anniecondon/anaconda3/envs/mobile_user_engage/lib/python3.11/site-packages (0.3.2)\n",
      "Requirement already satisfied: langchain-community<0.4.0,>=0.3.0 in /Users/anniecondon/anaconda3/envs/mobile_user_engage/lib/python3.11/site-packages (from langchain_experimental) (0.3.1)\n",
      "Requirement already satisfied: langchain-core<0.4.0,>=0.3.6 in /Users/anniecondon/anaconda3/envs/mobile_user_engage/lib/python3.11/site-packages (from langchain_experimental) (0.3.8)\n",
      "Requirement already satisfied: PyYAML>=5.3 in /Users/anniecondon/anaconda3/envs/mobile_user_engage/lib/python3.11/site-packages (from langchain-community<0.4.0,>=0.3.0->langchain_experimental) (6.0.2)\n",
      "Requirement already satisfied: SQLAlchemy<3,>=1.4 in /Users/anniecondon/anaconda3/envs/mobile_user_engage/lib/python3.11/site-packages (from langchain-community<0.4.0,>=0.3.0->langchain_experimental) (2.0.35)\n",
      "Requirement already satisfied: aiohttp<4.0.0,>=3.8.3 in /Users/anniecondon/anaconda3/envs/mobile_user_engage/lib/python3.11/site-packages (from langchain-community<0.4.0,>=0.3.0->langchain_experimental) (3.10.8)\n",
      "Requirement already satisfied: dataclasses-json<0.7,>=0.5.7 in /Users/anniecondon/anaconda3/envs/mobile_user_engage/lib/python3.11/site-packages (from langchain-community<0.4.0,>=0.3.0->langchain_experimental) (0.6.7)\n",
      "Requirement already satisfied: langchain<0.4.0,>=0.3.1 in /Users/anniecondon/anaconda3/envs/mobile_user_engage/lib/python3.11/site-packages (from langchain-community<0.4.0,>=0.3.0->langchain_experimental) (0.3.2)\n",
      "Requirement already satisfied: langsmith<0.2.0,>=0.1.125 in /Users/anniecondon/anaconda3/envs/mobile_user_engage/lib/python3.11/site-packages (from langchain-community<0.4.0,>=0.3.0->langchain_experimental) (0.1.131)\n",
      "Requirement already satisfied: numpy<2,>=1 in /Users/anniecondon/anaconda3/envs/mobile_user_engage/lib/python3.11/site-packages (from langchain-community<0.4.0,>=0.3.0->langchain_experimental) (1.26.4)\n",
      "Requirement already satisfied: pydantic-settings<3.0.0,>=2.4.0 in /Users/anniecondon/anaconda3/envs/mobile_user_engage/lib/python3.11/site-packages (from langchain-community<0.4.0,>=0.3.0->langchain_experimental) (2.5.2)\n",
      "Requirement already satisfied: requests<3,>=2 in /Users/anniecondon/anaconda3/envs/mobile_user_engage/lib/python3.11/site-packages (from langchain-community<0.4.0,>=0.3.0->langchain_experimental) (2.32.3)\n",
      "Requirement already satisfied: tenacity!=8.4.0,<9.0.0,>=8.1.0 in /Users/anniecondon/anaconda3/envs/mobile_user_engage/lib/python3.11/site-packages (from langchain-community<0.4.0,>=0.3.0->langchain_experimental) (8.5.0)\n",
      "Requirement already satisfied: jsonpatch<2.0,>=1.33 in /Users/anniecondon/anaconda3/envs/mobile_user_engage/lib/python3.11/site-packages (from langchain-core<0.4.0,>=0.3.6->langchain_experimental) (1.33)\n",
      "Requirement already satisfied: packaging<25,>=23.2 in /Users/anniecondon/anaconda3/envs/mobile_user_engage/lib/python3.11/site-packages (from langchain-core<0.4.0,>=0.3.6->langchain_experimental) (24.1)\n",
      "Requirement already satisfied: pydantic<3.0.0,>=2.5.2 in /Users/anniecondon/anaconda3/envs/mobile_user_engage/lib/python3.11/site-packages (from langchain-core<0.4.0,>=0.3.6->langchain_experimental) (2.9.2)\n",
      "Requirement already satisfied: typing-extensions>=4.7 in /Users/anniecondon/anaconda3/envs/mobile_user_engage/lib/python3.11/site-packages (from langchain-core<0.4.0,>=0.3.6->langchain_experimental) (4.12.2)\n",
      "Requirement already satisfied: aiohappyeyeballs>=2.3.0 in /Users/anniecondon/anaconda3/envs/mobile_user_engage/lib/python3.11/site-packages (from aiohttp<4.0.0,>=3.8.3->langchain-community<0.4.0,>=0.3.0->langchain_experimental) (2.4.3)\n",
      "Requirement already satisfied: aiosignal>=1.1.2 in /Users/anniecondon/anaconda3/envs/mobile_user_engage/lib/python3.11/site-packages (from aiohttp<4.0.0,>=3.8.3->langchain-community<0.4.0,>=0.3.0->langchain_experimental) (1.3.1)\n",
      "Requirement already satisfied: attrs>=17.3.0 in /Users/anniecondon/anaconda3/envs/mobile_user_engage/lib/python3.11/site-packages (from aiohttp<4.0.0,>=3.8.3->langchain-community<0.4.0,>=0.3.0->langchain_experimental) (24.2.0)\n",
      "Requirement already satisfied: frozenlist>=1.1.1 in /Users/anniecondon/anaconda3/envs/mobile_user_engage/lib/python3.11/site-packages (from aiohttp<4.0.0,>=3.8.3->langchain-community<0.4.0,>=0.3.0->langchain_experimental) (1.4.1)\n",
      "Requirement already satisfied: multidict<7.0,>=4.5 in /Users/anniecondon/anaconda3/envs/mobile_user_engage/lib/python3.11/site-packages (from aiohttp<4.0.0,>=3.8.3->langchain-community<0.4.0,>=0.3.0->langchain_experimental) (6.1.0)\n",
      "Requirement already satisfied: yarl<2.0,>=1.12.0 in /Users/anniecondon/anaconda3/envs/mobile_user_engage/lib/python3.11/site-packages (from aiohttp<4.0.0,>=3.8.3->langchain-community<0.4.0,>=0.3.0->langchain_experimental) (1.13.1)\n",
      "Requirement already satisfied: marshmallow<4.0.0,>=3.18.0 in /Users/anniecondon/anaconda3/envs/mobile_user_engage/lib/python3.11/site-packages (from dataclasses-json<0.7,>=0.5.7->langchain-community<0.4.0,>=0.3.0->langchain_experimental) (3.22.0)\n",
      "Requirement already satisfied: typing-inspect<1,>=0.4.0 in /Users/anniecondon/anaconda3/envs/mobile_user_engage/lib/python3.11/site-packages (from dataclasses-json<0.7,>=0.5.7->langchain-community<0.4.0,>=0.3.0->langchain_experimental) (0.9.0)\n",
      "Requirement already satisfied: jsonpointer>=1.9 in /Users/anniecondon/anaconda3/envs/mobile_user_engage/lib/python3.11/site-packages (from jsonpatch<2.0,>=1.33->langchain-core<0.4.0,>=0.3.6->langchain_experimental) (3.0.0)\n",
      "Requirement already satisfied: langchain-text-splitters<0.4.0,>=0.3.0 in /Users/anniecondon/anaconda3/envs/mobile_user_engage/lib/python3.11/site-packages (from langchain<0.4.0,>=0.3.1->langchain-community<0.4.0,>=0.3.0->langchain_experimental) (0.3.0)\n",
      "Requirement already satisfied: httpx<1,>=0.23.0 in /Users/anniecondon/anaconda3/envs/mobile_user_engage/lib/python3.11/site-packages (from langsmith<0.2.0,>=0.1.125->langchain-community<0.4.0,>=0.3.0->langchain_experimental) (0.27.2)\n",
      "Requirement already satisfied: orjson<4.0.0,>=3.9.14 in /Users/anniecondon/anaconda3/envs/mobile_user_engage/lib/python3.11/site-packages (from langsmith<0.2.0,>=0.1.125->langchain-community<0.4.0,>=0.3.0->langchain_experimental) (3.10.7)\n",
      "Requirement already satisfied: requests-toolbelt<2.0.0,>=1.0.0 in /Users/anniecondon/anaconda3/envs/mobile_user_engage/lib/python3.11/site-packages (from langsmith<0.2.0,>=0.1.125->langchain-community<0.4.0,>=0.3.0->langchain_experimental) (1.0.0)\n",
      "Requirement already satisfied: annotated-types>=0.6.0 in /Users/anniecondon/anaconda3/envs/mobile_user_engage/lib/python3.11/site-packages (from pydantic<3.0.0,>=2.5.2->langchain-core<0.4.0,>=0.3.6->langchain_experimental) (0.7.0)\n",
      "Requirement already satisfied: pydantic-core==2.23.4 in /Users/anniecondon/anaconda3/envs/mobile_user_engage/lib/python3.11/site-packages (from pydantic<3.0.0,>=2.5.2->langchain-core<0.4.0,>=0.3.6->langchain_experimental) (2.23.4)\n",
      "Requirement already satisfied: python-dotenv>=0.21.0 in /Users/anniecondon/anaconda3/envs/mobile_user_engage/lib/python3.11/site-packages (from pydantic-settings<3.0.0,>=2.4.0->langchain-community<0.4.0,>=0.3.0->langchain_experimental) (1.0.1)\n",
      "Requirement already satisfied: charset-normalizer<4,>=2 in /Users/anniecondon/anaconda3/envs/mobile_user_engage/lib/python3.11/site-packages (from requests<3,>=2->langchain-community<0.4.0,>=0.3.0->langchain_experimental) (3.3.2)\n",
      "Requirement already satisfied: idna<4,>=2.5 in /Users/anniecondon/anaconda3/envs/mobile_user_engage/lib/python3.11/site-packages (from requests<3,>=2->langchain-community<0.4.0,>=0.3.0->langchain_experimental) (3.10)\n",
      "Requirement already satisfied: urllib3<3,>=1.21.1 in /Users/anniecondon/anaconda3/envs/mobile_user_engage/lib/python3.11/site-packages (from requests<3,>=2->langchain-community<0.4.0,>=0.3.0->langchain_experimental) (2.2.3)\n",
      "Requirement already satisfied: certifi>=2017.4.17 in /Users/anniecondon/anaconda3/envs/mobile_user_engage/lib/python3.11/site-packages (from requests<3,>=2->langchain-community<0.4.0,>=0.3.0->langchain_experimental) (2024.8.30)\n",
      "Requirement already satisfied: anyio in /Users/anniecondon/anaconda3/envs/mobile_user_engage/lib/python3.11/site-packages (from httpx<1,>=0.23.0->langsmith<0.2.0,>=0.1.125->langchain-community<0.4.0,>=0.3.0->langchain_experimental) (4.6.0)\n",
      "Requirement already satisfied: httpcore==1.* in /Users/anniecondon/anaconda3/envs/mobile_user_engage/lib/python3.11/site-packages (from httpx<1,>=0.23.0->langsmith<0.2.0,>=0.1.125->langchain-community<0.4.0,>=0.3.0->langchain_experimental) (1.0.6)\n",
      "Requirement already satisfied: sniffio in /Users/anniecondon/anaconda3/envs/mobile_user_engage/lib/python3.11/site-packages (from httpx<1,>=0.23.0->langsmith<0.2.0,>=0.1.125->langchain-community<0.4.0,>=0.3.0->langchain_experimental) (1.3.1)\n",
      "Requirement already satisfied: h11<0.15,>=0.13 in /Users/anniecondon/anaconda3/envs/mobile_user_engage/lib/python3.11/site-packages (from httpcore==1.*->httpx<1,>=0.23.0->langsmith<0.2.0,>=0.1.125->langchain-community<0.4.0,>=0.3.0->langchain_experimental) (0.14.0)\n",
      "Requirement already satisfied: mypy-extensions>=0.3.0 in /Users/anniecondon/anaconda3/envs/mobile_user_engage/lib/python3.11/site-packages (from typing-inspect<1,>=0.4.0->dataclasses-json<0.7,>=0.5.7->langchain-community<0.4.0,>=0.3.0->langchain_experimental) (1.0.0)\n",
      "Note: you may need to restart the kernel to use updated packages.\n",
      "Requirement already satisfied: python-dotenv in /Users/anniecondon/anaconda3/envs/mobile_user_engage/lib/python3.11/site-packages (1.0.1)\n",
      "Note: you may need to restart the kernel to use updated packages.\n",
      "Requirement already satisfied: pandas in /Users/anniecondon/anaconda3/envs/mobile_user_engage/lib/python3.11/site-packages (2.2.3)\n",
      "Requirement already satisfied: numpy>=1.23.2 in /Users/anniecondon/anaconda3/envs/mobile_user_engage/lib/python3.11/site-packages (from pandas) (1.26.4)\n",
      "Requirement already satisfied: python-dateutil>=2.8.2 in /Users/anniecondon/anaconda3/envs/mobile_user_engage/lib/python3.11/site-packages (from pandas) (2.9.0)\n",
      "Requirement already satisfied: pytz>=2020.1 in /Users/anniecondon/anaconda3/envs/mobile_user_engage/lib/python3.11/site-packages (from pandas) (2024.2)\n",
      "Requirement already satisfied: tzdata>=2022.7 in /Users/anniecondon/anaconda3/envs/mobile_user_engage/lib/python3.11/site-packages (from pandas) (2024.2)\n",
      "Requirement already satisfied: six>=1.5 in /Users/anniecondon/anaconda3/envs/mobile_user_engage/lib/python3.11/site-packages (from python-dateutil>=2.8.2->pandas) (1.16.0)\n",
      "Note: you may need to restart the kernel to use updated packages.\n",
      "Requirement already satisfied: matplotlib in /Users/anniecondon/anaconda3/envs/mobile_user_engage/lib/python3.11/site-packages (3.9.2)\n",
      "Requirement already satisfied: contourpy>=1.0.1 in /Users/anniecondon/anaconda3/envs/mobile_user_engage/lib/python3.11/site-packages (from matplotlib) (1.3.0)\n",
      "Requirement already satisfied: cycler>=0.10 in /Users/anniecondon/anaconda3/envs/mobile_user_engage/lib/python3.11/site-packages (from matplotlib) (0.12.1)\n",
      "Requirement already satisfied: fonttools>=4.22.0 in /Users/anniecondon/anaconda3/envs/mobile_user_engage/lib/python3.11/site-packages (from matplotlib) (4.54.1)\n",
      "Requirement already satisfied: kiwisolver>=1.3.1 in /Users/anniecondon/anaconda3/envs/mobile_user_engage/lib/python3.11/site-packages (from matplotlib) (1.4.7)\n",
      "Requirement already satisfied: numpy>=1.23 in /Users/anniecondon/anaconda3/envs/mobile_user_engage/lib/python3.11/site-packages (from matplotlib) (1.26.4)\n",
      "Requirement already satisfied: packaging>=20.0 in /Users/anniecondon/anaconda3/envs/mobile_user_engage/lib/python3.11/site-packages (from matplotlib) (24.1)\n",
      "Requirement already satisfied: pillow>=8 in /Users/anniecondon/anaconda3/envs/mobile_user_engage/lib/python3.11/site-packages (from matplotlib) (10.4.0)\n",
      "Requirement already satisfied: pyparsing>=2.3.1 in /Users/anniecondon/anaconda3/envs/mobile_user_engage/lib/python3.11/site-packages (from matplotlib) (3.1.4)\n",
      "Requirement already satisfied: python-dateutil>=2.7 in /Users/anniecondon/anaconda3/envs/mobile_user_engage/lib/python3.11/site-packages (from matplotlib) (2.9.0)\n",
      "Requirement already satisfied: six>=1.5 in /Users/anniecondon/anaconda3/envs/mobile_user_engage/lib/python3.11/site-packages (from python-dateutil>=2.7->matplotlib) (1.16.0)\n",
      "Note: you may need to restart the kernel to use updated packages.\n",
      "Requirement already satisfied: plotly in /Users/anniecondon/anaconda3/envs/mobile_user_engage/lib/python3.11/site-packages (5.24.1)\n",
      "Requirement already satisfied: tenacity>=6.2.0 in /Users/anniecondon/anaconda3/envs/mobile_user_engage/lib/python3.11/site-packages (from plotly) (8.5.0)\n",
      "Requirement already satisfied: packaging in /Users/anniecondon/anaconda3/envs/mobile_user_engage/lib/python3.11/site-packages (from plotly) (24.1)\n",
      "Note: you may need to restart the kernel to use updated packages.\n",
      "Requirement already satisfied: nbformat in /Users/anniecondon/anaconda3/envs/mobile_user_engage/lib/python3.11/site-packages (5.10.4)\n",
      "Requirement already satisfied: fastjsonschema>=2.15 in /Users/anniecondon/anaconda3/envs/mobile_user_engage/lib/python3.11/site-packages (from nbformat) (2.20.0)\n",
      "Requirement already satisfied: jsonschema>=2.6 in /Users/anniecondon/anaconda3/envs/mobile_user_engage/lib/python3.11/site-packages (from nbformat) (4.23.0)\n",
      "Requirement already satisfied: jupyter-core!=5.0.*,>=4.12 in /Users/anniecondon/anaconda3/envs/mobile_user_engage/lib/python3.11/site-packages (from nbformat) (5.7.2)\n",
      "Requirement already satisfied: traitlets>=5.1 in /Users/anniecondon/anaconda3/envs/mobile_user_engage/lib/python3.11/site-packages (from nbformat) (5.14.3)\n",
      "Requirement already satisfied: attrs>=22.2.0 in /Users/anniecondon/anaconda3/envs/mobile_user_engage/lib/python3.11/site-packages (from jsonschema>=2.6->nbformat) (24.2.0)\n",
      "Requirement already satisfied: jsonschema-specifications>=2023.03.6 in /Users/anniecondon/anaconda3/envs/mobile_user_engage/lib/python3.11/site-packages (from jsonschema>=2.6->nbformat) (2023.12.1)\n",
      "Requirement already satisfied: referencing>=0.28.4 in /Users/anniecondon/anaconda3/envs/mobile_user_engage/lib/python3.11/site-packages (from jsonschema>=2.6->nbformat) (0.35.1)\n",
      "Requirement already satisfied: rpds-py>=0.7.1 in /Users/anniecondon/anaconda3/envs/mobile_user_engage/lib/python3.11/site-packages (from jsonschema>=2.6->nbformat) (0.20.0)\n",
      "Requirement already satisfied: platformdirs>=2.5 in /Users/anniecondon/anaconda3/envs/mobile_user_engage/lib/python3.11/site-packages (from jupyter-core!=5.0.*,>=4.12->nbformat) (4.3.6)\n",
      "Note: you may need to restart the kernel to use updated packages.\n",
      "Requirement already satisfied: nbformat in /Users/anniecondon/anaconda3/envs/mobile_user_engage/lib/python3.11/site-packages (5.10.4)\n",
      "Requirement already satisfied: fastjsonschema>=2.15 in /Users/anniecondon/anaconda3/envs/mobile_user_engage/lib/python3.11/site-packages (from nbformat) (2.20.0)\n",
      "Requirement already satisfied: jsonschema>=2.6 in /Users/anniecondon/anaconda3/envs/mobile_user_engage/lib/python3.11/site-packages (from nbformat) (4.23.0)\n",
      "Requirement already satisfied: jupyter-core!=5.0.*,>=4.12 in /Users/anniecondon/anaconda3/envs/mobile_user_engage/lib/python3.11/site-packages (from nbformat) (5.7.2)\n",
      "Requirement already satisfied: traitlets>=5.1 in /Users/anniecondon/anaconda3/envs/mobile_user_engage/lib/python3.11/site-packages (from nbformat) (5.14.3)\n",
      "Requirement already satisfied: attrs>=22.2.0 in /Users/anniecondon/anaconda3/envs/mobile_user_engage/lib/python3.11/site-packages (from jsonschema>=2.6->nbformat) (24.2.0)\n",
      "Requirement already satisfied: jsonschema-specifications>=2023.03.6 in /Users/anniecondon/anaconda3/envs/mobile_user_engage/lib/python3.11/site-packages (from jsonschema>=2.6->nbformat) (2023.12.1)\n",
      "Requirement already satisfied: referencing>=0.28.4 in /Users/anniecondon/anaconda3/envs/mobile_user_engage/lib/python3.11/site-packages (from jsonschema>=2.6->nbformat) (0.35.1)\n",
      "Requirement already satisfied: rpds-py>=0.7.1 in /Users/anniecondon/anaconda3/envs/mobile_user_engage/lib/python3.11/site-packages (from jsonschema>=2.6->nbformat) (0.20.0)\n",
      "Requirement already satisfied: platformdirs>=2.5 in /Users/anniecondon/anaconda3/envs/mobile_user_engage/lib/python3.11/site-packages (from jupyter-core!=5.0.*,>=4.12->nbformat) (4.3.6)\n",
      "Note: you may need to restart the kernel to use updated packages.\n"
     ]
    }
   ],
   "source": [
    "%pip install langchain_openai\n",
    "%pip install langchain_core\n",
    "%pip install langchain_community\n",
    "%pip install langchain_experimental\n",
    "%pip install python-dotenv\n",
    "%pip install pandas\n",
    "%pip install matplotlib\n",
    "%pip install plotly\n",
    "%pip install nbformat\n",
    "%pip install --upgrade nbformat\n"
   ]
  },
  {
   "cell_type": "code",
   "execution_count": 21,
   "metadata": {},
   "outputs": [],
   "source": [
    "import os\n",
    "import pandas as pd\n",
    "import numpy as np\n",
    "import matplotlib.pyplot as plt\n",
    "from dotenv import load_dotenv\n",
    "from langchain_openai.chat_models import ChatOpenAI\n",
    "from langchain_experimental.utilities import PythonREPL\n",
    "from typing import Annotated\n",
    "from langchain_core.tools import tool\n",
    "from langchain_core.prompts import PromptTemplate\n",
    "import plotly.express as px\n"
   ]
  },
  {
   "cell_type": "code",
   "execution_count": 3,
   "metadata": {},
   "outputs": [],
   "source": [
    "load_dotenv()\n",
    "\n",
    "openai_key = os.environ.get(\"OPENAI_API\")\n",
    "gpt4o = ChatOpenAI(temperature=0.0, model=\"gpt-4\", openai_api_key=openai_key)"
   ]
  },
  {
   "cell_type": "markdown",
   "metadata": {},
   "source": [
    "## Read in data and extract metadata"
   ]
  },
  {
   "cell_type": "code",
   "execution_count": 4,
   "metadata": {},
   "outputs": [],
   "source": [
    "# Create function that extracts metadata from data set\n",
    "def extract_metadata(df):\n",
    "    metadata = {}\n",
    "\n",
    "    # Number of columns\n",
    "    metadata['Number of Columns'] = df.shape[1]\n",
    "\n",
    "    # Column names\n",
    "    metadata['Schema'] = df.columns.tolist()\n",
    "\n",
    "    # Data types of each column\n",
    "    metadata['Data Types'] = str(df.dtypes)\n",
    "\n",
    "    # Summary statistics\n",
    "    metadata['Sample'] = df.head(1).to_dict(orient=\"records\")\n",
    "\n",
    "    return metadata"
   ]
  },
  {
   "cell_type": "code",
   "execution_count": 17,
   "metadata": {},
   "outputs": [],
   "source": [
    "# read in csv file\n",
    "df = pd.read_csv(\"../data/user_behavior_dataset.csv\")\n",
    "# run metadata extraction function\n",
    "metadata = extract_metadata(df)"
   ]
  },
  {
   "cell_type": "code",
   "execution_count": 6,
   "metadata": {},
   "outputs": [
    {
     "data": {
      "text/plain": [
       "{'Number of Columns': 11,\n",
       " 'Schema': ['User ID',\n",
       "  'Device Model',\n",
       "  'Operating System',\n",
       "  'App Usage Time (min/day)',\n",
       "  'Screen On Time (hours/day)',\n",
       "  'Battery Drain (mAh/day)',\n",
       "  'Number of Apps Installed',\n",
       "  'Data Usage (MB/day)',\n",
       "  'Age',\n",
       "  'Gender',\n",
       "  'User Behavior Class'],\n",
       " 'Data Types': 'User ID                         int64\\nDevice Model                   object\\nOperating System               object\\nApp Usage Time (min/day)        int64\\nScreen On Time (hours/day)    float64\\nBattery Drain (mAh/day)         int64\\nNumber of Apps Installed        int64\\nData Usage (MB/day)             int64\\nAge                             int64\\nGender                         object\\nUser Behavior Class             int64\\ndtype: object',\n",
       " 'Sample': [{'User ID': 1,\n",
       "   'Device Model': 'Google Pixel 5',\n",
       "   'Operating System': 'Android',\n",
       "   'App Usage Time (min/day)': 393,\n",
       "   'Screen On Time (hours/day)': 6.4,\n",
       "   'Battery Drain (mAh/day)': 1872,\n",
       "   'Number of Apps Installed': 67,\n",
       "   'Data Usage (MB/day)': 1122,\n",
       "   'Age': 40,\n",
       "   'Gender': 'Male',\n",
       "   'User Behavior Class': 4}]}"
      ]
     },
     "execution_count": 6,
     "metadata": {},
     "output_type": "execute_result"
    }
   ],
   "source": [
    "metadata"
   ]
  },
  {
   "cell_type": "markdown",
   "metadata": {},
   "source": [
    "I've been doing exploratory data analysis manually in Python for years, and I wanted to attempt to use an agent to help with this step, to see how well it would do. I followed the code and instructions from this Medium article (https://medium.com/@cubode/comprehensive-guide-using-ai-agents-to-analyze-and-process-csv-data-a0259e2af761), which uses the Langchain package, and the OpenAI API to help analyze data from a .csv file. In these first steps, I set up the agent and the prompts.\n",
    "\n",
    "Overall, this step just prompts gpt to come up with charts or plots that it would use to visualize this data. The output lists several different types of plots that could be used to visualize and show relationships in this data."
   ]
  },
  {
   "cell_type": "markdown",
   "metadata": {},
   "source": [
    "## Augment and engineer prompt for agent"
   ]
  },
  {
   "cell_type": "code",
   "execution_count": 34,
   "metadata": {},
   "outputs": [
    {
     "data": {
      "text/plain": [
       "AIMessage(content=\"1. **Bar Chart**: You can use a bar chart to visualize the distribution of 'Operating System'. This will show the number of users for each operating system.\\n\\n2. **Pie Chart**: A pie chart can be used to visualize the distribution of 'Gender'. This will show the proportion of male and female users.\\n\\n3. **Histogram**: A histogram can be used to visualize the distribution of 'Age'. This will show the number of users in each age group.\\n\\n4. **Scatter Plot**: A scatter plot can be used to visualize the relationship between 'App Usage Time (min/day)' and 'Battery Drain (mAh/day)'. This will show if there is a correlation between these two variables.\\n\\n5. **Box Plot**: A box plot can be used to visualize the distribution of 'Screen On Time (hours/day)' for each 'User Behavior Class'. This will show the variation in screen on time for different user behavior classes.\\n\\n6. **Heatmap**: A heatmap can be used to visualize the correlation between all the numerical variables in the dataset. This will show the strength and direction of the relationship between each pair of variables.\\n\\n7. **Line Chart**: A line chart can be used to visualize the trend of 'Data Usage (MB/day)' over time (if time data is available). This will show how data usage changes over time.\", additional_kwargs={'refusal': None}, response_metadata={'token_usage': {'completion_tokens': 272, 'prompt_tokens': 313, 'total_tokens': 585, 'completion_tokens_details': {'audio_tokens': None, 'reasoning_tokens': 0}, 'prompt_tokens_details': {'audio_tokens': None, 'cached_tokens': 0}}, 'model_name': 'gpt-4-0613', 'system_fingerprint': None, 'finish_reason': 'stop', 'logprobs': None}, id='run-654701ad-7bc1-41de-8eea-d22c6d4d718d-0', usage_metadata={'input_tokens': 313, 'output_tokens': 272, 'total_tokens': 585})"
      ]
     },
     "execution_count": 34,
     "metadata": {},
     "output_type": "execute_result"
    }
   ],
   "source": [
    "# Create and engineer prompt used to prompt gpt for data visualization suggestions\n",
    "\n",
    "openai_api_key = os.getenv(\"OPENAI_API\")\n",
    "if not openai_api_key:\n",
    "    raise ValueError(\"OPENAI_API is not set correctly\")\n",
    "\n",
    "prompt_template = '''\n",
    "Assistant is an AI model that takes in metadata from a dataset \n",
    "and suggests charts to use to visualize that data.\n",
    "\n",
    "New Input: Suggest 7 charts to visualize data from a dataset with the following metadata. \n",
    "\n",
    "\n",
    "SCHEMA:\n",
    "\n",
    "-------- \n",
    "\n",
    "{schema}\n",
    "\n",
    "DATA TYPES: \n",
    "\n",
    "-------- \n",
    "\n",
    "{data_types}\n",
    "\n",
    "SAMPLE: \n",
    "\n",
    "-------- \n",
    "\n",
    "{sample}\n",
    "\n",
    "'''.format(schema = metadata[\"Schema\"], data_types = metadata[\"Data Types\"], sample=metadata[\"Sample\"])\n",
    "\n",
    "gpt4o.invoke(prompt_template)"
   ]
  },
  {
   "cell_type": "markdown",
   "metadata": {},
   "source": [
    "## Have agent produce code that forms data structures for plots"
   ]
  },
  {
   "cell_type": "code",
   "execution_count": 7,
   "metadata": {},
   "outputs": [],
   "source": [
    "# Create an instance of PythonREPL\n",
    "repl = PythonREPL()\n",
    "\n",
    "# Pass the dataframe into the globals dictionary of the PythonREPL instance\n",
    "repl.globals['df'] = df"
   ]
  },
  {
   "cell_type": "code",
   "execution_count": 8,
   "metadata": {},
   "outputs": [],
   "source": [
    "@tool\n",
    "def python_repl(\n",
    "    code: Annotated[str, \"The python code to execute to generate your chart.\"]\n",
    "):\n",
    "    \"\"\"Use this to execute python code. If you want to see the output of a value,\n",
    "    you should print it out with `print(...)`. This is visible to the user.\"\"\"\n",
    "    try:\n",
    "        result = repl.run(code)\n",
    "    except BaseException as e:\n",
    "        return f\"Failed to execute. Error: {repr(e)}\"\n",
    "    result_str = f\"Successfully executed:\\n```python\\n{code}\\n```\\nStdout: {result}\"\n",
    "    return (\n",
    "        result_str + \"\\n\\nIf you have completed all tasks, respond with FINAL ANSWER.\"\n",
    "    )\n",
    "\n",
    "tools = [python_repl]"
   ]
  },
  {
   "cell_type": "code",
   "execution_count": 9,
   "metadata": {},
   "outputs": [],
   "source": [
    "# write prompt for instructions for agent to run the code it writes\n",
    "instructions_template = '''\n",
    "\n",
    "You are an agent that writes and excutes python code.\n",
    "\n",
    "You have access to a Python abstract REPL, which you can use to execute the python code.\n",
    "\n",
    "You must write the python code code assuming that the dataframe (stored as df) has already been read.\n",
    "\n",
    "If you get an error, debug your code and try again.\n",
    "\n",
    "You might know the answer without running any code, but you should still run the code to get the answer.\n",
    "\n",
    "If it does not seem like you can write code to answer the question, just return \"I don't know\" as the answer.\n",
    "\n",
    "Do not create example dataframes \n",
    "'''"
   ]
  },
  {
   "cell_type": "code",
   "execution_count": 11,
   "metadata": {},
   "outputs": [],
   "source": [
    "base_template = '''\n",
    "\n",
    "    {instructions_template}\n",
    "\n",
    "    TOOLS:\n",
    "\n",
    "    ------\n",
    "\n",
    "    You have access to the following tools:\n",
    "\n",
    "    {tools}\n",
    "\n",
    "    To use a tool, please use the following format:\n",
    "\n",
    "    ```\n",
    "\n",
    "    Thought: Do I need to use a tool? Yes\n",
    "\n",
    "    Action: the action to take, should be one of [{tool_names}]\n",
    "\n",
    "    Action Input: the input to the action\n",
    "\n",
    "    Observation: the result of the action\n",
    "\n",
    "    ```\n",
    "\n",
    "    When you have a response to say to the Human, or if you do not need to use a tool, you MUST use the format:\n",
    "\n",
    "    ```\n",
    "\n",
    "    Thought: Do I need to use a tool? No\n",
    "\n",
    "    Final Answer: [your response here]\n",
    "\n",
    "    ```\n",
    "\n",
    "    Begin!\n",
    "\n",
    "    Previous conversation history:\n",
    "\n",
    "    {chat_history}\n",
    "\n",
    "    New input: {input}\n",
    "\n",
    "    {agent_scratchpad}\n",
    "'''"
   ]
  },
  {
   "cell_type": "code",
   "execution_count": 12,
   "metadata": {},
   "outputs": [],
   "source": [
    "base_prompt = PromptTemplate(template=base_template, input_variables=['agent_scratchpad', 'input', 'instructions', 'tool_names', 'tools'])\n",
    "base_prompt = base_prompt.partial(instructions_template=instructions_template) #format the instructions"
   ]
  },
  {
   "cell_type": "markdown",
   "metadata": {},
   "source": [
    "## Create Agent"
   ]
  },
  {
   "cell_type": "code",
   "execution_count": 13,
   "metadata": {},
   "outputs": [],
   "source": [
    "new_input = '''\n",
    "Create the data needed for the following chart\n",
    "\n",
    "CHART \n",
    "\n",
    "-------- \n",
    "Chart 1: Bar Chart - Distribution of 'Operating Systems'\n",
    "\n",
    "X-axis: Operating Systems\n",
    "\n",
    "Y-axis: Count of Users for each Operating System\\n*\n",
    "\n",
    "You're task is to write code to transform the raw data into the desired data structure in json to be included in the plot.\n",
    "\n",
    "Only return the data.\n",
    "\n",
    "-------- \n",
    "Chart 2: Pie chart - Distribution of 'Gender'\n",
    "\n",
    "This will show the proportion of male and female users from the 'Gender' field.\n",
    "\n",
    "You're task is to write code to transform the raw data into the desired data structure in json to be included in the plot.\n",
    "\n",
    "Only return the data.\n",
    "\n",
    "-------- \n",
    "Chart 3: Histogram - Distribution of 'Age'.\n",
    "\n",
    "X-axis: Age\n",
    "\n",
    "Y-axis: Count of Users for each Age\\n*\n",
    "\n",
    "You're task is to write code to transform the raw data into the desired data structure in json to be included in the plot.\n",
    "\n",
    "Only return the data.\n",
    "\n",
    "-------- \n",
    "Chart 4: Scatter plot - Relationship between 'App Usage Time (min/day)' and 'Battery Drain (mAh/day)'.\n",
    "\n",
    "X-axis: App Usage Time (min/day)\n",
    "\n",
    "Y-axis: Battery Drain (mAh/day)\\n*\n",
    "\n",
    "You're task is to write code to transform the raw data into the desired data structure in json to be included in the plot.\n",
    "\n",
    "Only return the data.\n",
    "\n",
    "-------- \n",
    "Chart 5: Box Plot - Distribution of 'Screen On Time (hours/day)' for each 'User Behavior Class'\n",
    "\n",
    "X-axis: User Behavior Class\n",
    "\n",
    "Y-axis: Screen On Time (hours/day)\\n*\n",
    "\n",
    "You're task is to write code to transform the raw data into the desired data structure in json to be included in the plot.\n",
    "\n",
    "Only return the data.\n",
    "\n",
    "-------- \n",
    "Chart 6: Heatmap - Correlation between all the numerical variables in the dataset.\n",
    "\n",
    "X-axis: All numeric variables in the data set\n",
    "\n",
    "Y-axis: All numeric variables in the data set\\n*\n",
    "\n",
    "You're task is to write code to transform the raw data into the desired data structure in json to be included in the plot.\n",
    "\n",
    "-------- \n",
    "Chart 7: Heatmap - Correlation between all the numerical variables in the dataset.\n",
    "\n",
    "X-axis: All numeric variables in the data set\n",
    "\n",
    "Y-axis: All numeric variables in the data set\\n*\n",
    "\n",
    "You're task is to write code to transform the raw data into the desired data structure in json to be included in the plot.\n",
    "\n",
    "Only return the data.\n",
    "\n",
    "Here is the dataset schema:\n",
    "\n",
    "{schema}\n",
    "\n",
    "'''.format(schema=metadata['Schema'])"
   ]
  },
  {
   "cell_type": "code",
   "execution_count": 14,
   "metadata": {},
   "outputs": [
    {
     "name": "stdout",
     "output_type": "stream",
     "text": [
      "\n",
      "\n",
      "\u001b[1m> Entering new AgentExecutor chain...\u001b[0m\n"
     ]
    },
    {
     "name": "stderr",
     "output_type": "stream",
     "text": [
      "Python REPL can execute arbitrary code. Use with caution.\n"
     ]
    },
    {
     "name": "stdout",
     "output_type": "stream",
     "text": [
      "\u001b[32;1m\u001b[1;3mThought: Do I need to use a tool? Yes\n",
      "\n",
      "Action: python_repl\n",
      "\n",
      "Action Input: \n",
      "\n",
      "```python\n",
      "# Chart 1: Bar Chart - Distribution of 'Operating Systems'\n",
      "os_distribution = df['Operating System'].value_counts().to_dict()\n",
      "\n",
      "# Chart 2: Pie chart - Distribution of 'Gender'\n",
      "gender_distribution = df['Gender'].value_counts().to_dict()\n",
      "\n",
      "# Chart 3: Histogram - Distribution of 'Age'\n",
      "age_distribution = df['Age'].value_counts().to_dict()\n",
      "\n",
      "# Chart 4: Scatter plot - Relationship between 'App Usage Time (min/day)' and 'Battery Drain (mAh/day)'\n",
      "scatter_data = df[['App Usage Time (min/day)', 'Battery Drain (mAh/day)']].to_dict('records')\n",
      "\n",
      "# Chart 5: Box Plot - Distribution of 'Screen On Time (hours/day)' for each 'User Behavior Class'\n",
      "box_plot_data = df.groupby('User Behavior Class')['Screen On Time (hours/day)'].apply(list).to_dict()\n",
      "\n",
      "# Chart 6: Heatmap - Correlation between all the numerical variables in the dataset.\n",
      "numeric_columns = df.select_dtypes(include=[np.number]).columns.tolist()\n",
      "correlation_data = df[numeric_columns].corr().to_dict()\n",
      "\n",
      "# Chart 7: Heatmap - Correlation between all the numerical variables in the dataset.\n",
      "# This is the same as Chart 6, so we can reuse the correlation_data\n",
      "\n",
      "data = {\n",
      "    'chart1': os_distribution,\n",
      "    'chart2': gender_distribution,\n",
      "    'chart3': age_distribution,\n",
      "    'chart4': scatter_data,\n",
      "    'chart5': box_plot_data,\n",
      "    'chart6': correlation_data,\n",
      "    'chart7': correlation_data,\n",
      "}\n",
      "\n",
      "data\n",
      "```\n",
      "\u001b[0m\u001b[36;1m\u001b[1;3mSuccessfully executed:\n",
      "```python\n",
      "```python\n",
      "# Chart 1: Bar Chart - Distribution of 'Operating Systems'\n",
      "os_distribution = df['Operating System'].value_counts().to_dict()\n",
      "\n",
      "# Chart 2: Pie chart - Distribution of 'Gender'\n",
      "gender_distribution = df['Gender'].value_counts().to_dict()\n",
      "\n",
      "# Chart 3: Histogram - Distribution of 'Age'\n",
      "age_distribution = df['Age'].value_counts().to_dict()\n",
      "\n",
      "# Chart 4: Scatter plot - Relationship between 'App Usage Time (min/day)' and 'Battery Drain (mAh/day)'\n",
      "scatter_data = df[['App Usage Time (min/day)', 'Battery Drain (mAh/day)']].to_dict('records')\n",
      "\n",
      "# Chart 5: Box Plot - Distribution of 'Screen On Time (hours/day)' for each 'User Behavior Class'\n",
      "box_plot_data = df.groupby('User Behavior Class')['Screen On Time (hours/day)'].apply(list).to_dict()\n",
      "\n",
      "# Chart 6: Heatmap - Correlation between all the numerical variables in the dataset.\n",
      "numeric_columns = df.select_dtypes(include=[np.number]).columns.tolist()\n",
      "correlation_data = df[numeric_columns].corr().to_dict()\n",
      "\n",
      "# Chart 7: Heatmap - Correlation between all the numerical variables in the dataset.\n",
      "# This is the same as Chart 6, so we can reuse the correlation_data\n",
      "\n",
      "data = {\n",
      "    'chart1': os_distribution,\n",
      "    'chart2': gender_distribution,\n",
      "    'chart3': age_distribution,\n",
      "    'chart4': scatter_data,\n",
      "    'chart5': box_plot_data,\n",
      "    'chart6': correlation_data,\n",
      "    'chart7': correlation_data,\n",
      "}\n",
      "\n",
      "data\n",
      "```\n",
      "\n",
      "```\n",
      "Stdout: NameError(\"name 'np' is not defined\")\n",
      "\n",
      "If you have completed all tasks, respond with FINAL ANSWER.\u001b[0m\u001b[32;1m\u001b[1;3mThe code failed because I forgot to import the numpy library which is needed for the select_dtypes function. I will correct this and try again.\n",
      "\n",
      "Action: python_repl\n",
      "\n",
      "Action Input: \n",
      "\n",
      "```python\n",
      "import numpy as np\n",
      "\n",
      "# Chart 1: Bar Chart - Distribution of 'Operating Systems'\n",
      "os_distribution = df['Operating System'].value_counts().to_dict()\n",
      "\n",
      "# Chart 2: Pie chart - Distribution of 'Gender'\n",
      "gender_distribution = df['Gender'].value_counts().to_dict()\n",
      "\n",
      "# Chart 3: Histogram - Distribution of 'Age'\n",
      "age_distribution = df['Age'].value_counts().to_dict()\n",
      "\n",
      "# Chart 4: Scatter plot - Relationship between 'App Usage Time (min/day)' and 'Battery Drain (mAh/day)'\n",
      "scatter_data = df[['App Usage Time (min/day)', 'Battery Drain (mAh/day)']].to_dict('records')\n",
      "\n",
      "# Chart 5: Box Plot - Distribution of 'Screen On Time (hours/day)' for each 'User Behavior Class'\n",
      "box_plot_data = df.groupby('User Behavior Class')['Screen On Time (hours/day)'].apply(list).to_dict()\n",
      "\n",
      "# Chart 6: Heatmap - Correlation between all the numerical variables in the dataset.\n",
      "numeric_columns = df.select_dtypes(include=[np.number]).columns.tolist()\n",
      "correlation_data = df[numeric_columns].corr().to_dict()\n",
      "\n",
      "# Chart 7: Heatmap - Correlation between all the numerical variables in the dataset.\n",
      "# This is the same as Chart 6, so we can reuse the correlation_data\n",
      "\n",
      "data = {\n",
      "    'chart1': os_distribution,\n",
      "    'chart2': gender_distribution,\n",
      "    'chart3': age_distribution,\n",
      "    'chart4': scatter_data,\n",
      "    'chart5': box_plot_data,\n",
      "    'chart6': correlation_data,\n",
      "    'chart7': correlation_data,\n",
      "}\n",
      "\n",
      "data\n",
      "```\u001b[0m\u001b[36;1m\u001b[1;3mSuccessfully executed:\n",
      "```python\n",
      "```python\n",
      "import numpy as np\n",
      "\n",
      "# Chart 1: Bar Chart - Distribution of 'Operating Systems'\n",
      "os_distribution = df['Operating System'].value_counts().to_dict()\n",
      "\n",
      "# Chart 2: Pie chart - Distribution of 'Gender'\n",
      "gender_distribution = df['Gender'].value_counts().to_dict()\n",
      "\n",
      "# Chart 3: Histogram - Distribution of 'Age'\n",
      "age_distribution = df['Age'].value_counts().to_dict()\n",
      "\n",
      "# Chart 4: Scatter plot - Relationship between 'App Usage Time (min/day)' and 'Battery Drain (mAh/day)'\n",
      "scatter_data = df[['App Usage Time (min/day)', 'Battery Drain (mAh/day)']].to_dict('records')\n",
      "\n",
      "# Chart 5: Box Plot - Distribution of 'Screen On Time (hours/day)' for each 'User Behavior Class'\n",
      "box_plot_data = df.groupby('User Behavior Class')['Screen On Time (hours/day)'].apply(list).to_dict()\n",
      "\n",
      "# Chart 6: Heatmap - Correlation between all the numerical variables in the dataset.\n",
      "numeric_columns = df.select_dtypes(include=[np.number]).columns.tolist()\n",
      "correlation_data = df[numeric_columns].corr().to_dict()\n",
      "\n",
      "# Chart 7: Heatmap - Correlation between all the numerical variables in the dataset.\n",
      "# This is the same as Chart 6, so we can reuse the correlation_data\n",
      "\n",
      "data = {\n",
      "    'chart1': os_distribution,\n",
      "    'chart2': gender_distribution,\n",
      "    'chart3': age_distribution,\n",
      "    'chart4': scatter_data,\n",
      "    'chart5': box_plot_data,\n",
      "    'chart6': correlation_data,\n",
      "    'chart7': correlation_data,\n",
      "}\n",
      "\n",
      "data\n",
      "```\n",
      "```\n",
      "Stdout: \n",
      "\n",
      "If you have completed all tasks, respond with FINAL ANSWER.\u001b[0m\u001b[32;1m\u001b[1;3mDo I need to use a tool? No\n",
      "\n",
      "Final Answer: The data needed for the charts is as follows:\n",
      "\n",
      "```python\n",
      "{\n",
      "    'chart1': os_distribution, # Bar Chart - Distribution of 'Operating Systems'\n",
      "    'chart2': gender_distribution, # Pie chart - Distribution of 'Gender'\n",
      "    'chart3': age_distribution, # Histogram - Distribution of 'Age'\n",
      "    'chart4': scatter_data, # Scatter plot - Relationship between 'App Usage Time (min/day)' and 'Battery Drain (mAh/day)'\n",
      "    'chart5': box_plot_data, # Box Plot - Distribution of 'Screen On Time (hours/day)' for each 'User Behavior Class'\n",
      "    'chart6': correlation_data, # Heatmap - Correlation between all the numerical variables in the dataset\n",
      "    'chart7': correlation_data, # Heatmap - Correlation between all the numerical variables in the dataset (same as chart 6)\n",
      "}\n",
      "```\u001b[0m\n",
      "\n",
      "\u001b[1m> Finished chain.\u001b[0m\n"
     ]
    }
   ],
   "source": [
    "from langchain.agents import AgentExecutor, create_react_agent\n",
    "\n",
    "agent = create_react_agent(gpt4o, tools, base_prompt)\n",
    "agent_executor = AgentExecutor(agent=agent, tools=tools, verbose=True)\n",
    "agent_out = agent_executor.invoke(\n",
    "    {\n",
    "        \"input\": new_input,\n",
    "        \"chat_history\": \"\"\n",
    "    }\n",
    ")"
   ]
  },
  {
   "cell_type": "markdown",
   "metadata": {},
   "source": [
    "## Plot the charts"
   ]
  },
  {
   "cell_type": "code",
   "execution_count": 16,
   "metadata": {},
   "outputs": [
    {
     "data": {
      "text/plain": [
       "Index(['App Usage Time (min/day)', 'Battery Drain (mAh/day)'], dtype='object')"
      ]
     },
     "execution_count": 16,
     "metadata": {},
     "output_type": "execute_result"
    }
   ],
   "source": [
    "df.columns"
   ]
  },
  {
   "cell_type": "code",
   "execution_count": 11,
   "metadata": {},
   "outputs": [
    {
     "data": {
      "image/png": "[encoded data removed]",
      "text/plain": [
       "<Figure size 1000x600 with 1 Axes>"
      ]
     },
     "metadata": {},
     "output_type": "display_data"
    }
   ],
   "source": [
    "# Get operating system\n",
    "os_distribution = df['Operating System'].value_counts().to_dict()\n",
    "\n",
    "# Extract operating systems and their respective counts\n",
    "operating_systems = list(os_distribution.keys())\n",
    "user_counts = list(os_distribution.values())\n",
    "\n",
    "# Create a bar chart\n",
    "plt.figure(figsize=(10, 6))\n",
    "plt.bar(operating_systems, user_counts, color='skyblue')\n",
    "\n",
    "# Add labels and title\n",
    "plt.xlabel('Operating System')\n",
    "plt.ylabel('Number of Users')\n",
    "plt.title('Distribution of Users by Operating System')\n",
    "\n",
    "# Display the chart\n",
    "plt.show()\n"
   ]
  },
  {
   "cell_type": "code",
   "execution_count": 12,
   "metadata": {},
   "outputs": [
    {
     "data": {
      "image/png": "[encoded data removed]",
      "text/plain": [
       "<Figure size 1000x600 with 1 Axes>"
      ]
     },
     "metadata": {},
     "output_type": "display_data"
    }
   ],
   "source": [
    "# Get gender data\n",
    "gender_distribution = df['Gender'].value_counts().to_dict()\n",
    "\n",
    "# Extract genders and their respective counts\n",
    "gender_types = list(gender_distribution.keys())\n",
    "user_counts = list(gender_distribution.values())\n",
    "\n",
    "# Create a bar chart\n",
    "plt.figure(figsize=(10, 6))\n",
    "plt.bar(gender_types, user_counts, color='skyblue')\n",
    "\n",
    "# Add labels and title\n",
    "plt.xlabel('Gender')\n",
    "plt.ylabel('Number of Users')\n",
    "plt.title('Distribution of Users by Gender')\n",
    "\n",
    "# Display the chart\n",
    "plt.show()"
   ]
  },
  {
   "cell_type": "code",
   "execution_count": 18,
   "metadata": {},
   "outputs": [
    {
     "data": {
      "application/vnd.plotly.v1+json": {
       "config": {
        "plotlyServerURL": "https://plot.ly"
       },
       "data": [
        {
         "alignmentgroup": "True",
         "bingroup": "x",
         "hovertemplate": "Age=%{x}<br>count=%{y}<extra></extra>",
         "legendgroup": "",
         "marker": {
          "color": "#636efa",
          "opacity": 0.7,
          "pattern": {
           "shape": ""
          }
         },
         "name": "",
         "nbinsx": 10,
         "offsetgroup": "",
         "orientation": "v",
         "showlegend": false,
         "type": "histogram",
         "x": [
          51,
          51,
          51,
          51,
          51,
          51,
          51,
          51,
          51,
          51,
          51,
          51,
          51,
          51,
          51,
          51,
          51,
          51,
          51,
          51,
          51,
          51,
          51,
          51,
          51,
          34,
          34,
          34,
          34,
          34,
          34,
          34,
          34,
          34,
          34,
          34,
          34,
          34,
          34,
          34,
          34,
          34,
          34,
          34,
          34,
          34,
          34,
          34,
          34,
          34,
          27,
          27,
          27,
          27,
          27,
          27,
          27,
          27,
          27,
          27,
          27,
          27,
          27,
          27,
          27,
          27,
          27,
          27,
          27,
          27,
          27,
          27,
          27,
          27,
          22,
          22,
          22,
          22,
          22,
          22,
          22,
          22,
          22,
          22,
          22,
          22,
          22,
          22,
          22,
          22,
          22,
          22,
          22,
          22,
          22,
          22,
          22,
          22,
          43,
          43,
          43,
          43,
          43,
          43,
          43,
          43,
          43,
          43,
          43,
          43,
          43,
          43,
          43,
          43,
          43,
          43,
          43,
          43,
          43,
          43,
          55,
          55,
          55,
          55,
          55,
          55,
          55,
          55,
          55,
          55,
          55,
          55,
          55,
          55,
          55,
          55,
          55,
          55,
          55,
          55,
          55,
          29,
          29,
          29,
          29,
          29,
          29,
          29,
          29,
          29,
          29,
          29,
          29,
          29,
          29,
          29,
          29,
          29,
          29,
          29,
          29,
          29,
          25,
          25,
          25,
          25,
          25,
          25,
          25,
          25,
          25,
          25,
          25,
          25,
          25,
          25,
          25,
          25,
          25,
          25,
          25,
          25,
          25,
          42,
          42,
          42,
          42,
          42,
          42,
          42,
          42,
          42,
          42,
          42,
          42,
          42,
          42,
          42,
          42,
          42,
          42,
          42,
          42,
          31,
          31,
          31,
          31,
          31,
          31,
          31,
          31,
          31,
          31,
          31,
          31,
          31,
          31,
          31,
          31,
          31,
          31,
          31,
          31,
          53,
          53,
          53,
          53,
          53,
          53,
          53,
          53,
          53,
          53,
          53,
          53,
          53,
          53,
          53,
          53,
          53,
          53,
          53,
          37,
          37,
          37,
          37,
          37,
          37,
          37,
          37,
          37,
          37,
          37,
          37,
          37,
          37,
          37,
          37,
          37,
          37,
          37,
          40,
          40,
          40,
          40,
          40,
          40,
          40,
          40,
          40,
          40,
          40,
          40,
          40,
          40,
          40,
          40,
          40,
          40,
          40,
          57,
          57,
          57,
          57,
          57,
          57,
          57,
          57,
          57,
          57,
          57,
          57,
          57,
          57,
          57,
          57,
          57,
          57,
          45,
          45,
          45,
          45,
          45,
          45,
          45,
          45,
          45,
          45,
          45,
          45,
          45,
          45,
          45,
          45,
          45,
          45,
          32,
          32,
          32,
          32,
          32,
          32,
          32,
          32,
          32,
          32,
          32,
          32,
          32,
          32,
          32,
          32,
          32,
          32,
          36,
          36,
          36,
          36,
          36,
          36,
          36,
          36,
          36,
          36,
          36,
          36,
          36,
          36,
          36,
          36,
          36,
          52,
          52,
          52,
          52,
          52,
          52,
          52,
          52,
          52,
          52,
          52,
          52,
          52,
          52,
          52,
          52,
          52,
          47,
          47,
          47,
          47,
          47,
          47,
          47,
          47,
          47,
          47,
          47,
          47,
          47,
          47,
          47,
          47,
          47,
          49,
          49,
          49,
          49,
          49,
          49,
          49,
          49,
          49,
          49,
          49,
          49,
          49,
          49,
          49,
          49,
          49,
          20,
          20,
          20,
          20,
          20,
          20,
          20,
          20,
          20,
          20,
          20,
          20,
          20,
          20,
          20,
          20,
          20,
          21,
          21,
          21,
          21,
          21,
          21,
          21,
          21,
          21,
          21,
          21,
          21,
          21,
          21,
          21,
          21,
          21,
          54,
          54,
          54,
          54,
          54,
          54,
          54,
          54,
          54,
          54,
          54,
          54,
          54,
          54,
          54,
          54,
          56,
          56,
          56,
          56,
          56,
          56,
          56,
          56,
          56,
          56,
          56,
          56,
          56,
          56,
          56,
          56,
          23,
          23,
          23,
          23,
          23,
          23,
          23,
          23,
          23,
          23,
          23,
          23,
          23,
          23,
          23,
          39,
          39,
          39,
          39,
          39,
          39,
          39,
          39,
          39,
          39,
          39,
          39,
          39,
          39,
          39,
          35,
          35,
          35,
          35,
          35,
          35,
          35,
          35,
          35,
          35,
          35,
          35,
          35,
          35,
          35,
          50,
          50,
          50,
          50,
          50,
          50,
          50,
          50,
          50,
          50,
          50,
          50,
          50,
          50,
          50,
          30,
          30,
          30,
          30,
          30,
          30,
          30,
          30,
          30,
          30,
          30,
          30,
          30,
          30,
          30,
          26,
          26,
          26,
          26,
          26,
          26,
          26,
          26,
          26,
          26,
          26,
          26,
          26,
          26,
          24,
          24,
          24,
          24,
          24,
          24,
          24,
          24,
          24,
          24,
          24,
          24,
          24,
          24,
          44,
          44,
          44,
          44,
          44,
          44,
          44,
          44,
          44,
          44,
          44,
          44,
          44,
          44,
          58,
          58,
          58,
          58,
          58,
          58,
          58,
          58,
          58,
          58,
          58,
          58,
          58,
          58,
          28,
          28,
          28,
          28,
          28,
          28,
          28,
          28,
          28,
          28,
          28,
          28,
          28,
          59,
          59,
          59,
          59,
          59,
          59,
          59,
          59,
          59,
          59,
          59,
          59,
          59,
          41,
          41,
          41,
          41,
          41,
          41,
          41,
          41,
          41,
          41,
          41,
          41,
          19,
          19,
          19,
          19,
          19,
          19,
          19,
          19,
          19,
          19,
          19,
          19,
          18,
          18,
          18,
          18,
          18,
          18,
          18,
          18,
          18,
          18,
          18,
          33,
          33,
          33,
          33,
          33,
          33,
          33,
          33,
          33,
          33,
          33,
          46,
          46,
          46,
          46,
          46,
          46,
          46,
          46,
          46,
          46,
          46,
          38,
          38,
          38,
          38,
          38,
          38,
          38,
          38,
          38,
          48,
          48,
          48,
          48,
          48,
          48,
          48,
          48,
          48
         ],
         "xaxis": "x",
         "yaxis": "y"
        }
       ],
       "layout": {
        "bargap": 0.1,
        "barmode": "relative",
        "legend": {
         "tracegroupgap": 0
        },
        "template": {
         "data": {
          "bar": [
           {
            "error_x": {
             "color": "#2a3f5f"
            },
            "error_y": {
             "color": "#2a3f5f"
            },
            "marker": {
             "line": {
              "color": "#E5ECF6",
              "width": 0.5
             },
             "pattern": {
              "fillmode": "overlay",
              "size": 10,
              "solidity": 0.2
             }
            },
            "type": "bar"
           }
          ],
          "barpolar": [
           {
            "marker": {
             "line": {
              "color": "#E5ECF6",
              "width": 0.5
             },
             "pattern": {
              "fillmode": "overlay",
              "size": 10,
              "solidity": 0.2
             }
            },
            "type": "barpolar"
           }
          ],
          "carpet": [
           {
            "aaxis": {
             "endlinecolor": "#2a3f5f",
             "gridcolor": "white",
             "linecolor": "white",
             "minorgridcolor": "white",
             "startlinecolor": "#2a3f5f"
            },
            "baxis": {
             "endlinecolor": "#2a3f5f",
             "gridcolor": "white",
             "linecolor": "white",
             "minorgridcolor": "white",
             "startlinecolor": "#2a3f5f"
            },
            "type": "carpet"
           }
          ],
          "choropleth": [
           {
            "colorbar": {
             "outlinewidth": 0,
             "ticks": ""
            },
            "type": "choropleth"
           }
          ],
          "contour": [
           {
            "colorbar": {
             "outlinewidth": 0,
             "ticks": ""
            },
            "colorscale": [
             [
              0,
              "#0d0887"
             ],
             [
              0.1111111111111111,
              "#46039f"
             ],
             [
              0.2222222222222222,
              "#7201a8"
             ],
             [
              0.3333333333333333,
              "#9c179e"
             ],
             [
              0.4444444444444444,
              "#bd3786"
             ],
             [
              0.5555555555555556,
              "#d8576b"
             ],
             [
              0.6666666666666666,
              "#ed7953"
             ],
             [
              0.7777777777777778,
              "#fb9f3a"
             ],
             [
              0.8888888888888888,
              "#fdca26"
             ],
             [
              1,
              "#f0f921"
             ]
            ],
            "type": "contour"
           }
          ],
          "contourcarpet": [
           {
            "colorbar": {
             "outlinewidth": 0,
             "ticks": ""
            },
            "type": "contourcarpet"
           }
          ],
          "heatmap": [
           {
            "colorbar": {
             "outlinewidth": 0,
             "ticks": ""
            },
            "colorscale": [
             [
              0,
              "#0d0887"
             ],
             [
              0.1111111111111111,
              "#46039f"
             ],
             [
              0.2222222222222222,
              "#7201a8"
             ],
             [
              0.3333333333333333,
              "#9c179e"
             ],
             [
              0.4444444444444444,
              "#bd3786"
             ],
             [
              0.5555555555555556,
              "#d8576b"
             ],
             [
              0.6666666666666666,
              "#ed7953"
             ],
             [
              0.7777777777777778,
              "#fb9f3a"
             ],
             [
              0.8888888888888888,
              "#fdca26"
             ],
             [
              1,
              "#f0f921"
             ]
            ],
            "type": "heatmap"
           }
          ],
          "heatmapgl": [
           {
            "colorbar": {
             "outlinewidth": 0,
             "ticks": ""
            },
            "colorscale": [
             [
              0,
              "#0d0887"
             ],
             [
              0.1111111111111111,
              "#46039f"
             ],
             [
              0.2222222222222222,
              "#7201a8"
             ],
             [
              0.3333333333333333,
              "#9c179e"
             ],
             [
              0.4444444444444444,
              "#bd3786"
             ],
             [
              0.5555555555555556,
              "#d8576b"
             ],
             [
              0.6666666666666666,
              "#ed7953"
             ],
             [
              0.7777777777777778,
              "#fb9f3a"
             ],
             [
              0.8888888888888888,
              "#fdca26"
             ],
             [
              1,
              "#f0f921"
             ]
            ],
            "type": "heatmapgl"
           }
          ],
          "histogram": [
           {
            "marker": {
             "pattern": {
              "fillmode": "overlay",
              "size": 10,
              "solidity": 0.2
             }
            },
            "type": "histogram"
           }
          ],
          "histogram2d": [
           {
            "colorbar": {
             "outlinewidth": 0,
             "ticks": ""
            },
            "colorscale": [
             [
              0,
              "#0d0887"
             ],
             [
              0.1111111111111111,
              "#46039f"
             ],
             [
              0.2222222222222222,
              "#7201a8"
             ],
             [
              0.3333333333333333,
              "#9c179e"
             ],
             [
              0.4444444444444444,
              "#bd3786"
             ],
             [
              0.5555555555555556,
              "#d8576b"
             ],
             [
              0.6666666666666666,
              "#ed7953"
             ],
             [
              0.7777777777777778,
              "#fb9f3a"
             ],
             [
              0.8888888888888888,
              "#fdca26"
             ],
             [
              1,
              "#f0f921"
             ]
            ],
            "type": "histogram2d"
           }
          ],
          "histogram2dcontour": [
           {
            "colorbar": {
             "outlinewidth": 0,
             "ticks": ""
            },
            "colorscale": [
             [
              0,
              "#0d0887"
             ],
             [
              0.1111111111111111,
              "#46039f"
             ],
             [
              0.2222222222222222,
              "#7201a8"
             ],
             [
              0.3333333333333333,
              "#9c179e"
             ],
             [
              0.4444444444444444,
              "#bd3786"
             ],
             [
              0.5555555555555556,
              "#d8576b"
             ],
             [
              0.6666666666666666,
              "#ed7953"
             ],
             [
              0.7777777777777778,
              "#fb9f3a"
             ],
             [
              0.8888888888888888,
              "#fdca26"
             ],
             [
              1,
              "#f0f921"
             ]
            ],
            "type": "histogram2dcontour"
           }
          ],
          "mesh3d": [
           {
            "colorbar": {
             "outlinewidth": 0,
             "ticks": ""
            },
            "type": "mesh3d"
           }
          ],
          "parcoords": [
           {
            "line": {
             "colorbar": {
              "outlinewidth": 0,
              "ticks": ""
             }
            },
            "type": "parcoords"
           }
          ],
          "pie": [
           {
            "automargin": true,
            "type": "pie"
           }
          ],
          "scatter": [
           {
            "fillpattern": {
             "fillmode": "overlay",
             "size": 10,
             "solidity": 0.2
            },
            "type": "scatter"
           }
          ],
          "scatter3d": [
           {
            "line": {
             "colorbar": {
              "outlinewidth": 0,
              "ticks": ""
             }
            },
            "marker": {
             "colorbar": {
              "outlinewidth": 0,
              "ticks": ""
             }
            },
            "type": "scatter3d"
           }
          ],
          "scattercarpet": [
           {
            "marker": {
             "colorbar": {
              "outlinewidth": 0,
              "ticks": ""
             }
            },
            "type": "scattercarpet"
           }
          ],
          "scattergeo": [
           {
            "marker": {
             "colorbar": {
              "outlinewidth": 0,
              "ticks": ""
             }
            },
            "type": "scattergeo"
           }
          ],
          "scattergl": [
           {
            "marker": {
             "colorbar": {
              "outlinewidth": 0,
              "ticks": ""
             }
            },
            "type": "scattergl"
           }
          ],
          "scattermapbox": [
           {
            "marker": {
             "colorbar": {
              "outlinewidth": 0,
              "ticks": ""
             }
            },
            "type": "scattermapbox"
           }
          ],
          "scatterpolar": [
           {
            "marker": {
             "colorbar": {
              "outlinewidth": 0,
              "ticks": ""
             }
            },
            "type": "scatterpolar"
           }
          ],
          "scatterpolargl": [
           {
            "marker": {
             "colorbar": {
              "outlinewidth": 0,
              "ticks": ""
             }
            },
            "type": "scatterpolargl"
           }
          ],
          "scatterternary": [
           {
            "marker": {
             "colorbar": {
              "outlinewidth": 0,
              "ticks": ""
             }
            },
            "type": "scatterternary"
           }
          ],
          "surface": [
           {
            "colorbar": {
             "outlinewidth": 0,
             "ticks": ""
            },
            "colorscale": [
             [
              0,
              "#0d0887"
             ],
             [
              0.1111111111111111,
              "#46039f"
             ],
             [
              0.2222222222222222,
              "#7201a8"
             ],
             [
              0.3333333333333333,
              "#9c179e"
             ],
             [
              0.4444444444444444,
              "#bd3786"
             ],
             [
              0.5555555555555556,
              "#d8576b"
             ],
             [
              0.6666666666666666,
              "#ed7953"
             ],
             [
              0.7777777777777778,
              "#fb9f3a"
             ],
             [
              0.8888888888888888,
              "#fdca26"
             ],
             [
              1,
              "#f0f921"
             ]
            ],
            "type": "surface"
           }
          ],
          "table": [
           {
            "cells": {
             "fill": {
              "color": "#EBF0F8"
             },
             "line": {
              "color": "white"
             }
            },
            "header": {
             "fill": {
              "color": "#C8D4E3"
             },
             "line": {
              "color": "white"
             }
            },
            "type": "table"
           }
          ]
         },
         "layout": {
          "annotationdefaults": {
           "arrowcolor": "#2a3f5f",
           "arrowhead": 0,
           "arrowwidth": 1
          },
          "autotypenumbers": "strict",
          "coloraxis": {
           "colorbar": {
            "outlinewidth": 0,
            "ticks": ""
           }
          },
          "colorscale": {
           "diverging": [
            [
             0,
             "#8e0152"
            ],
            [
             0.1,
             "#c51b7d"
            ],
            [
             0.2,
             "#de77ae"
            ],
            [
             0.3,
             "#f1b6da"
            ],
            [
             0.4,
             "#fde0ef"
            ],
            [
             0.5,
             "#f7f7f7"
            ],
            [
             0.6,
             "#e6f5d0"
            ],
            [
             0.7,
             "#b8e186"
            ],
            [
             0.8,
             "#7fbc41"
            ],
            [
             0.9,
             "#4d9221"
            ],
            [
             1,
             "#276419"
            ]
           ],
           "sequential": [
            [
             0,
             "#0d0887"
            ],
            [
             0.1111111111111111,
             "#46039f"
            ],
            [
             0.2222222222222222,
             "#7201a8"
            ],
            [
             0.3333333333333333,
             "#9c179e"
            ],
            [
             0.4444444444444444,
             "#bd3786"
            ],
            [
             0.5555555555555556,
             "#d8576b"
            ],
            [
             0.6666666666666666,
             "#ed7953"
            ],
            [
             0.7777777777777778,
             "#fb9f3a"
            ],
            [
             0.8888888888888888,
             "#fdca26"
            ],
            [
             1,
             "#f0f921"
            ]
           ],
           "sequentialminus": [
            [
             0,
             "#0d0887"
            ],
            [
             0.1111111111111111,
             "#46039f"
            ],
            [
             0.2222222222222222,
             "#7201a8"
            ],
            [
             0.3333333333333333,
             "#9c179e"
            ],
            [
             0.4444444444444444,
             "#bd3786"
            ],
            [
             0.5555555555555556,
             "#d8576b"
            ],
            [
             0.6666666666666666,
             "#ed7953"
            ],
            [
             0.7777777777777778,
             "#fb9f3a"
            ],
            [
             0.8888888888888888,
             "#fdca26"
            ],
            [
             1,
             "#f0f921"
            ]
           ]
          },
          "colorway": [
           "#636efa",
           "#EF553B",
           "#00cc96",
           "#ab63fa",
           "#FFA15A",
           "#19d3f3",
           "#FF6692",
           "#B6E880",
           "#FF97FF",
           "#FECB52"
          ],
          "font": {
           "color": "#2a3f5f"
          },
          "geo": {
           "bgcolor": "white",
           "lakecolor": "white",
           "landcolor": "#E5ECF6",
           "showlakes": true,
           "showland": true,
           "subunitcolor": "white"
          },
          "hoverlabel": {
           "align": "left"
          },
          "hovermode": "closest",
          "mapbox": {
           "style": "light"
          },
          "paper_bgcolor": "white",
          "plot_bgcolor": "#E5ECF6",
          "polar": {
           "angularaxis": {
            "gridcolor": "white",
            "linecolor": "white",
            "ticks": ""
           },
           "bgcolor": "#E5ECF6",
           "radialaxis": {
            "gridcolor": "white",
            "linecolor": "white",
            "ticks": ""
           }
          },
          "scene": {
           "xaxis": {
            "backgroundcolor": "#E5ECF6",
            "gridcolor": "white",
            "gridwidth": 2,
            "linecolor": "white",
            "showbackground": true,
            "ticks": "",
            "zerolinecolor": "white"
           },
           "yaxis": {
            "backgroundcolor": "#E5ECF6",
            "gridcolor": "white",
            "gridwidth": 2,
            "linecolor": "white",
            "showbackground": true,
            "ticks": "",
            "zerolinecolor": "white"
           },
           "zaxis": {
            "backgroundcolor": "#E5ECF6",
            "gridcolor": "white",
            "gridwidth": 2,
            "linecolor": "white",
            "showbackground": true,
            "ticks": "",
            "zerolinecolor": "white"
           }
          },
          "shapedefaults": {
           "line": {
            "color": "#2a3f5f"
           }
          },
          "ternary": {
           "aaxis": {
            "gridcolor": "white",
            "linecolor": "white",
            "ticks": ""
           },
           "baxis": {
            "gridcolor": "white",
            "linecolor": "white",
            "ticks": ""
           },
           "bgcolor": "#E5ECF6",
           "caxis": {
            "gridcolor": "white",
            "linecolor": "white",
            "ticks": ""
           }
          },
          "title": {
           "x": 0.05
          },
          "xaxis": {
           "automargin": true,
           "gridcolor": "white",
           "linecolor": "white",
           "ticks": "",
           "title": {
            "standoff": 15
           },
           "zerolinecolor": "white",
           "zerolinewidth": 2
          },
          "yaxis": {
           "automargin": true,
           "gridcolor": "white",
           "linecolor": "white",
           "ticks": "",
           "title": {
            "standoff": 15
           },
           "zerolinecolor": "white",
           "zerolinewidth": 2
          }
         }
        },
        "title": {
         "text": "Distribution of Ages"
        },
        "xaxis": {
         "anchor": "y",
         "domain": [
          0,
          1
         ],
         "title": {
          "text": "Age"
         }
        },
        "yaxis": {
         "anchor": "x",
         "domain": [
          0,
          1
         ],
         "title": {
          "text": "Frequency"
         }
        }
       }
      }
     },
     "metadata": {},
     "output_type": "display_data"
    }
   ],
   "source": [
    "# Distribution of 'Age'\n",
    "age_distribution = df['Age'].value_counts().to_dict()\n",
    "\n",
    "# Create list of ages based on the distribution\n",
    "ages = []\n",
    "for age, count in age_distribution.items():\n",
    "    ages.extend([age] * count)\n",
    "\n",
    "# Convert the list of ages to a pandas DataFrame for Plotly\n",
    "ages_df = pd.DataFrame(ages, columns=['Age'])\n",
    "\n",
    "# Create a histogram using Plotly\n",
    "fig = px.histogram(ages_df, \n",
    "                   x='Age', \n",
    "                   nbins=10,  # Number of bins\n",
    "                   title='Distribution of Ages',\n",
    "                   labels={'Age': 'Age'},\n",
    "                   opacity=0.7)\n",
    "\n",
    "# Customize layout (optional)\n",
    "fig.update_layout(\n",
    "    xaxis_title='Age',\n",
    "    yaxis_title='Frequency',\n",
    "    bargap=0.1  # Adjust the gap between bars\n",
    ")\n",
    "\n",
    "# Show the interactive histogram\n",
    "fig.show()"
   ]
  },
  {
   "cell_type": "code",
   "execution_count": 14,
   "metadata": {},
   "outputs": [
    {
     "data": {
      "application/vnd.plotly.v1+json": {
       "config": {
        "plotlyServerURL": "https://plot.ly"
       },
       "data": [
        {
         "hovertemplate": "App Usage Time (min/day)=%{x}<br>Battery Drain (mAh/day)=%{y}<extra></extra>",
         "legendgroup": "",
         "marker": {
          "color": "#636efa",
          "symbol": "circle"
         },
         "mode": "markers",
         "name": "",
         "orientation": "v",
         "showlegend": false,
         "type": "scatter",
         "x": [
          393,
          268,
          154,
          239,
          187,
          99,
          350,
          543,
          340,
          424,
          53,
          215,
          462,
          215,
          189,
          503,
          132,
          299,
          81,
          577,
          93,
          576,
          423,
          292,
          216,
          91,
          444,
          512,
          452,
          412,
          260,
          197,
          278,
          46,
          593,
          32,
          122,
          522,
          473,
          398,
          240,
          576,
          120,
          152,
          138,
          502,
          558,
          138,
          580,
          589,
          452,
          245,
          125,
          97,
          516,
          68,
          64,
          539,
          428,
          325,
          522,
          309,
          79,
          545,
          459,
          225,
          257,
          134,
          516,
          82,
          452,
          521,
          457,
          31,
          47,
          229,
          34,
          173,
          78,
          230,
          565,
          172,
          330,
          39,
          223,
          404,
          151,
          34,
          137,
          301,
          116,
          291,
          84,
          134,
          411,
          326,
          550,
          516,
          59,
          225,
          41,
          183,
          174,
          274,
          166,
          66,
          152,
          54,
          187,
          216,
          95,
          488,
          295,
          136,
          471,
          121,
          75,
          220,
          82,
          97,
          388,
          529,
          584,
          529,
          227,
          535,
          332,
          252,
          125,
          97,
          540,
          320,
          176,
          79,
          83,
          555,
          66,
          237,
          497,
          516,
          219,
          448,
          156,
          68,
          524,
          188,
          443,
          52,
          228,
          149,
          523,
          42,
          120,
          329,
          68,
          158,
          86,
          339,
          304,
          131,
          64,
          53,
          442,
          32,
          278,
          540,
          595,
          35,
          225,
          587,
          92,
          46,
          153,
          368,
          51,
          279,
          255,
          193,
          207,
          539,
          151,
          474,
          544,
          73,
          597,
          498,
          402,
          75,
          130,
          42,
          134,
          79,
          432,
          262,
          473,
          202,
          215,
          151,
          80,
          126,
          495,
          127,
          88,
          69,
          100,
          301,
          78,
          163,
          539,
          278,
          451,
          481,
          133,
          41,
          152,
          553,
          402,
          555,
          499,
          101,
          433,
          133,
          351,
          532,
          92,
          511,
          384,
          193,
          132,
          360,
          159,
          495,
          537,
          129,
          132,
          37,
          524,
          425,
          64,
          573,
          45,
          564,
          162,
          451,
          30,
          202,
          71,
          314,
          168,
          75,
          42,
          441,
          523,
          100,
          52,
          397,
          424,
          272,
          201,
          570,
          64,
          334,
          518,
          70,
          334,
          563,
          181,
          584,
          208,
          381,
          426,
          284,
          105,
          179,
          122,
          501,
          269,
          230,
          85,
          411,
          73,
          39,
          386,
          49,
          411,
          534,
          314,
          211,
          121,
          84,
          448,
          55,
          59,
          226,
          580,
          65,
          458,
          170,
          264,
          122,
          420,
          267,
          469,
          541,
          155,
          106,
          243,
          410,
          285,
          397,
          230,
          341,
          132,
          130,
          281,
          74,
          299,
          116,
          408,
          508,
          227,
          274,
          347,
          76,
          445,
          203,
          199,
          48,
          88,
          541,
          233,
          176,
          191,
          461,
          37,
          531,
          473,
          30,
          306,
          64,
          75,
          597,
          529,
          290,
          256,
          308,
          156,
          62,
          156,
          303,
          463,
          60,
          225,
          379,
          53,
          30,
          291,
          488,
          74,
          230,
          517,
          557,
          78,
          321,
          579,
          382,
          516,
          598,
          102,
          165,
          558,
          561,
          511,
          560,
          69,
          44,
          65,
          458,
          525,
          106,
          188,
          493,
          84,
          104,
          102,
          349,
          98,
          72,
          563,
          119,
          311,
          337,
          168,
          331,
          589,
          472,
          78,
          517,
          41,
          49,
          522,
          97,
          411,
          566,
          559,
          478,
          147,
          395,
          357,
          405,
          501,
          575,
          257,
          270,
          116,
          98,
          264,
          572,
          202,
          83,
          32,
          168,
          416,
          46,
          201,
          130,
          98,
          105,
          94,
          540,
          266,
          140,
          534,
          46,
          581,
          105,
          221,
          41,
          105,
          123,
          260,
          223,
          66,
          231,
          555,
          378,
          546,
          234,
          152,
          34,
          179,
          591,
          120,
          88,
          143,
          74,
          74,
          234,
          56,
          174,
          523,
          123,
          216,
          290,
          68,
          265,
          414,
          238,
          429,
          39,
          248,
          541,
          139,
          289,
          210,
          412,
          318,
          258,
          258,
          189,
          155,
          528,
          549,
          78,
          444,
          80,
          131,
          228,
          416,
          586,
          416,
          152,
          87,
          329,
          107,
          493,
          182,
          102,
          274,
          143,
          66,
          420,
          582,
          200,
          493,
          348,
          238,
          33,
          267,
          492,
          241,
          567,
          36,
          110,
          466,
          126,
          120,
          64,
          574,
          119,
          350,
          69,
          438,
          506,
          272,
          224,
          99,
          44,
          175,
          228,
          589,
          339,
          431,
          190,
          389,
          139,
          289,
          593,
          576,
          592,
          567,
          170,
          242,
          275,
          544,
          50,
          236,
          139,
          383,
          172,
          455,
          157,
          173,
          405,
          387,
          201,
          142,
          198,
          361,
          553,
          408,
          121,
          71,
          46,
          290,
          60,
          116,
          86,
          291,
          404,
          441,
          444,
          211,
          537,
          519,
          94,
          554,
          381,
          257,
          47,
          527,
          148,
          191,
          71,
          73,
          149,
          197,
          328,
          424,
          111,
          159,
          580,
          379,
          217,
          447,
          512,
          511,
          140,
          114,
          192,
          325,
          83,
          122,
          138,
          182,
          425,
          580,
          203,
          258,
          551,
          507,
          57,
          553,
          49,
          106,
          119,
          288,
          225,
          342,
          292,
          218,
          64,
          453,
          42,
          36,
          55,
          210,
          227,
          47,
          461,
          94,
          216,
          496,
          138,
          318,
          96,
          510,
          83,
          417,
          538,
          63,
          50,
          502,
          105,
          186,
          174,
          89,
          66,
          389,
          186,
          149,
          69,
          206,
          49,
          594,
          104,
          262,
          278,
          463,
          505,
          50,
          138,
          130,
          469,
          555,
          198,
          529,
          205,
          170,
          160,
          81,
          468,
          500,
          37,
          522,
          81,
          141,
          115,
          298,
          33,
          307,
          380,
          190,
          75,
          218,
          412,
          335,
          387,
          261,
          541,
          195,
          178,
          378,
          505,
          564,
          92,
          316,
          99,
          62,
          212
         ],
         "xaxis": "x",
         "y": [
          1872,
          1331,
          761,
          1676,
          1367,
          940,
          1802,
          2956,
          2138,
          1957,
          435,
          1690,
          2303,
          1662,
          1754,
          2571,
          628,
          1431,
          558,
          2774,
          681,
          2803,
          2094,
          1401,
          1711,
          1073,
          2372,
          2409,
          2387,
          1899,
          1361,
          1660,
          1484,
          457,
          2499,
          580,
          755,
          2808,
          2312,
          1851,
          1464,
          2447,
          720,
          993,
          837,
          2476,
          2447,
          889,
          2623,
          2736,
          2180,
          1243,
          690,
          1101,
          2857,
          450,
          572,
          2796,
          2306,
          2269,
          2798,
          2292,
          493,
          2911,
          1982,
          1420,
          1705,
          773,
          2932,
          558,
          1808,
          2902,
          2347,
          585,
          476,
          1305,
          558,
          678,
          333,
          1254,
          2475,
          1035,
          2363,
          368,
          1311,
          2081,
          1003,
          345,
          839,
          2053,
          912,
          1474,
          501,
          1125,
          2169,
          2243,
          2916,
          2406,
          361,
          1526,
          389,
          1210,
          929,
          1781,
          1113,
          585,
          642,
          403,
          1754,
          1641,
          718,
          2447,
          1483,
          818,
          2156,
          651,
          409,
          1631,
          590,
          1018,
          2085,
          2484,
          2541,
          2686,
          1702,
          2858,
          2149,
          1439,
          678,
          751,
          2923,
          2056,
          1193,
          313,
          303,
          2528,
          375,
          1368,
          2876,
          2429,
          1510,
          2044,
          896,
          528,
          2417,
          1281,
          2289,
          385,
          1677,
          873,
          2583,
          315,
          741,
          2277,
          364,
          893,
          439,
          2102,
          2375,
          859,
          540,
          526,
          2067,
          469,
          1238,
          2993,
          2968,
          467,
          1370,
          2431,
          1124,
          487,
          935,
          1817,
          509,
          1660,
          1738,
          1471,
          1582,
          2853,
          1124,
          2109,
          2936,
          308,
          2984,
          2738,
          2014,
          379,
          602,
          402,
          917,
          477,
          1822,
          1287,
          2109,
          1512,
          1407,
          1116,
          549,
          971,
          2920,
          1153,
          327,
          463,
          961,
          2084,
          455,
          620,
          2606,
          1385,
          2108,
          2752,
          714,
          588,
          1175,
          2559,
          2282,
          2855,
          2873,
          603,
          2093,
          1007,
          1941,
          2556,
          690,
          2712,
          2185,
          1318,
          649,
          1946,
          1083,
          2855,
          2720,
          1059,
          636,
          369,
          2549,
          2142,
          585,
          2711,
          302,
          2764,
          761,
          2378,
          479,
          1542,
          590,
          2205,
          866,
          537,
          324,
          2332,
          2460,
          982,
          398,
          2352,
          1863,
          1655,
          1791,
          2613,
          490,
          2394,
          2954,
          359,
          2000,
          2849,
          1608,
          2766,
          1642,
          2160,
          1969,
          1360,
          1002,
          1014,
          639,
          2702,
          1666,
          1607,
          417,
          2029,
          403,
          530,
          2114,
          542,
          1820,
          2805,
          2136,
          1519,
          619,
          415,
          2199,
          360,
          497,
          1781,
          2660,
          481,
          2214,
          805,
          1641,
          748,
          2113,
          1505,
          2290,
          2443,
          1117,
          686,
          1232,
          2176,
          1226,
          2027,
          1507,
          2397,
          1054,
          820,
          1566,
          320,
          1737,
          827,
          2026,
          2590,
          1275,
          1489,
          2001,
          490,
          2007,
          1554,
          1707,
          574,
          420,
          2865,
          1534,
          727,
          1762,
          2001,
          375,
          2905,
          2292,
          561,
          2267,
          590,
          435,
          2718,
          2971,
          1533,
          1309,
          1974,
          1020,
          542,
          866,
          2314,
          2111,
          593,
          1230,
          1823,
          455,
          574,
          1326,
          2840,
          366,
          1325,
          2435,
          2900,
          341,
          2159,
          2539,
          1965,
          2464,
          2876,
          747,
          816,
          2765,
          2547,
          2514,
          2947,
          434,
          531,
          490,
          1875,
          2445,
          922,
          1767,
          2453,
          373,
          653,
          890,
          2041,
          925,
          461,
          2968,
          775,
          2231,
          1901,
          1055,
          2129,
          2663,
          2288,
          437,
          2798,
          323,
          571,
          2821,
          612,
          1960,
          2595,
          2618,
          2340,
          994,
          2291,
          2289,
          2366,
          2790,
          2918,
          1692,
          1532,
          1171,
          608,
          1293,
          2655,
          1549,
          454,
          416,
          716,
          2115,
          536,
          1482,
          1062,
          747,
          967,
          1033,
          2757,
          1238,
          1137,
          2672,
          309,
          2591,
          798,
          1341,
          408,
          728,
          915,
          1725,
          1295,
          505,
          1664,
          2540,
          1859,
          2852,
          1604,
          617,
          518,
          1114,
          2953,
          734,
          557,
          1160,
          436,
          587,
          1707,
          547,
          639,
          2696,
          938,
          1789,
          1694,
          583,
          1770,
          2349,
          1414,
          1921,
          541,
          1396,
          2452,
          697,
          1625,
          1657,
          2201,
          2089,
          1315,
          1759,
          1681,
          954,
          2717,
          2851,
          470,
          1873,
          417,
          739,
          1734,
          1882,
          2403,
          2279,
          948,
          594,
          1892,
          1176,
          2928,
          1500,
          918,
          1356,
          988,
          369,
          2017,
          2664,
          1291,
          2859,
          2398,
          1408,
          318,
          1740,
          2513,
          1767,
          2911,
          442,
          975,
          1984,
          1187,
          940,
          592,
          2780,
          1123,
          2364,
          535,
          1849,
          2623,
          1390,
          1646,
          689,
          466,
          801,
          1639,
          2629,
          1987,
          2206,
          1276,
          2087,
          937,
          1528,
          2672,
          2638,
          2867,
          2817,
          740,
          1307,
          1616,
          2633,
          362,
          1750,
          658,
          2155,
          1047,
          1984,
          1110,
          605,
          2082,
          2168,
          1633,
          625,
          1392,
          2037,
          2914,
          2245,
          1188,
          508,
          440,
          1272,
          462,
          1132,
          312,
          1537,
          2181,
          1928,
          2229,
          1757,
          2858,
          2571,
          606,
          2776,
          2216,
          1715,
          532,
          2430,
          625,
          1414,
          571,
          538,
          1191,
          1665,
          1975,
          1995,
          627,
          630,
          2767,
          1809,
          1500,
          1959,
          2538,
          2529,
          825,
          1131,
          1382,
          2244,
          545,
          922,
          660,
          1278,
          1928,
          2496,
          1323,
          1596,
          2927,
          2606,
          489,
          2911,
          395,
          1158,
          608,
          1476,
          1388,
          1826,
          1407,
          1475,
          351,
          2363,
          417,
          310,
          328,
          1614,
          1446,
          437,
          1988,
          1078,
          1483,
          2587,
          1142,
          2055,
          1198,
          2433,
          546,
          2074,
          2778,
          321,
          443,
          2597,
          723,
          1494,
          1197,
          314,
          565,
          2294,
          1627,
          1041,
          519,
          1632,
          365,
          2839,
          1028,
          1489,
          1368,
          2358,
          2464,
          387,
          947,
          1189,
          1858,
          2568,
          1544,
          2891,
          1699,
          1039,
          648,
          387,
          1937,
          2925,
          490,
          2776,
          545,
          689,
          706,
          1525,
          334,
          2105,
          2354,
          1718,
          325,
          1221,
          1859,
          2037,
          2098,
          1589,
          2424,
          1447,
          856,
          1898,
          2792,
          2422,
          1082,
          1965,
          942,
          431,
          1306
         ],
         "yaxis": "y"
        }
       ],
       "layout": {
        "legend": {
         "tracegroupgap": 0
        },
        "template": {
         "data": {
          "bar": [
           {
            "error_x": {
             "color": "#2a3f5f"
            },
            "error_y": {
             "color": "#2a3f5f"
            },
            "marker": {
             "line": {
              "color": "#E5ECF6",
              "width": 0.5
             },
             "pattern": {
              "fillmode": "overlay",
              "size": 10,
              "solidity": 0.2
             }
            },
            "type": "bar"
           }
          ],
          "barpolar": [
           {
            "marker": {
             "line": {
              "color": "#E5ECF6",
              "width": 0.5
             },
             "pattern": {
              "fillmode": "overlay",
              "size": 10,
              "solidity": 0.2
             }
            },
            "type": "barpolar"
           }
          ],
          "carpet": [
           {
            "aaxis": {
             "endlinecolor": "#2a3f5f",
             "gridcolor": "white",
             "linecolor": "white",
             "minorgridcolor": "white",
             "startlinecolor": "#2a3f5f"
            },
            "baxis": {
             "endlinecolor": "#2a3f5f",
             "gridcolor": "white",
             "linecolor": "white",
             "minorgridcolor": "white",
             "startlinecolor": "#2a3f5f"
            },
            "type": "carpet"
           }
          ],
          "choropleth": [
           {
            "colorbar": {
             "outlinewidth": 0,
             "ticks": ""
            },
            "type": "choropleth"
           }
          ],
          "contour": [
           {
            "colorbar": {
             "outlinewidth": 0,
             "ticks": ""
            },
            "colorscale": [
             [
              0,
              "#0d0887"
             ],
             [
              0.1111111111111111,
              "#46039f"
             ],
             [
              0.2222222222222222,
              "#7201a8"
             ],
             [
              0.3333333333333333,
              "#9c179e"
             ],
             [
              0.4444444444444444,
              "#bd3786"
             ],
             [
              0.5555555555555556,
              "#d8576b"
             ],
             [
              0.6666666666666666,
              "#ed7953"
             ],
             [
              0.7777777777777778,
              "#fb9f3a"
             ],
             [
              0.8888888888888888,
              "#fdca26"
             ],
             [
              1,
              "#f0f921"
             ]
            ],
            "type": "contour"
           }
          ],
          "contourcarpet": [
           {
            "colorbar": {
             "outlinewidth": 0,
             "ticks": ""
            },
            "type": "contourcarpet"
           }
          ],
          "heatmap": [
           {
            "colorbar": {
             "outlinewidth": 0,
             "ticks": ""
            },
            "colorscale": [
             [
              0,
              "#0d0887"
             ],
             [
              0.1111111111111111,
              "#46039f"
             ],
             [
              0.2222222222222222,
              "#7201a8"
             ],
             [
              0.3333333333333333,
              "#9c179e"
             ],
             [
              0.4444444444444444,
              "#bd3786"
             ],
             [
              0.5555555555555556,
              "#d8576b"
             ],
             [
              0.6666666666666666,
              "#ed7953"
             ],
             [
              0.7777777777777778,
              "#fb9f3a"
             ],
             [
              0.8888888888888888,
              "#fdca26"
             ],
             [
              1,
              "#f0f921"
             ]
            ],
            "type": "heatmap"
           }
          ],
          "heatmapgl": [
           {
            "colorbar": {
             "outlinewidth": 0,
             "ticks": ""
            },
            "colorscale": [
             [
              0,
              "#0d0887"
             ],
             [
              0.1111111111111111,
              "#46039f"
             ],
             [
              0.2222222222222222,
              "#7201a8"
             ],
             [
              0.3333333333333333,
              "#9c179e"
             ],
             [
              0.4444444444444444,
              "#bd3786"
             ],
             [
              0.5555555555555556,
              "#d8576b"
             ],
             [
              0.6666666666666666,
              "#ed7953"
             ],
             [
              0.7777777777777778,
              "#fb9f3a"
             ],
             [
              0.8888888888888888,
              "#fdca26"
             ],
             [
              1,
              "#f0f921"
             ]
            ],
            "type": "heatmapgl"
           }
          ],
          "histogram": [
           {
            "marker": {
             "pattern": {
              "fillmode": "overlay",
              "size": 10,
              "solidity": 0.2
             }
            },
            "type": "histogram"
           }
          ],
          "histogram2d": [
           {
            "colorbar": {
             "outlinewidth": 0,
             "ticks": ""
            },
            "colorscale": [
             [
              0,
              "#0d0887"
             ],
             [
              0.1111111111111111,
              "#46039f"
             ],
             [
              0.2222222222222222,
              "#7201a8"
             ],
             [
              0.3333333333333333,
              "#9c179e"
             ],
             [
              0.4444444444444444,
              "#bd3786"
             ],
             [
              0.5555555555555556,
              "#d8576b"
             ],
             [
              0.6666666666666666,
              "#ed7953"
             ],
             [
              0.7777777777777778,
              "#fb9f3a"
             ],
             [
              0.8888888888888888,
              "#fdca26"
             ],
             [
              1,
              "#f0f921"
             ]
            ],
            "type": "histogram2d"
           }
          ],
          "histogram2dcontour": [
           {
            "colorbar": {
             "outlinewidth": 0,
             "ticks": ""
            },
            "colorscale": [
             [
              0,
              "#0d0887"
             ],
             [
              0.1111111111111111,
              "#46039f"
             ],
             [
              0.2222222222222222,
              "#7201a8"
             ],
             [
              0.3333333333333333,
              "#9c179e"
             ],
             [
              0.4444444444444444,
              "#bd3786"
             ],
             [
              0.5555555555555556,
              "#d8576b"
             ],
             [
              0.6666666666666666,
              "#ed7953"
             ],
             [
              0.7777777777777778,
              "#fb9f3a"
             ],
             [
              0.8888888888888888,
              "#fdca26"
             ],
             [
              1,
              "#f0f921"
             ]
            ],
            "type": "histogram2dcontour"
           }
          ],
          "mesh3d": [
           {
            "colorbar": {
             "outlinewidth": 0,
             "ticks": ""
            },
            "type": "mesh3d"
           }
          ],
          "parcoords": [
           {
            "line": {
             "colorbar": {
              "outlinewidth": 0,
              "ticks": ""
             }
            },
            "type": "parcoords"
           }
          ],
          "pie": [
           {
            "automargin": true,
            "type": "pie"
           }
          ],
          "scatter": [
           {
            "fillpattern": {
             "fillmode": "overlay",
             "size": 10,
             "solidity": 0.2
            },
            "type": "scatter"
           }
          ],
          "scatter3d": [
           {
            "line": {
             "colorbar": {
              "outlinewidth": 0,
              "ticks": ""
             }
            },
            "marker": {
             "colorbar": {
              "outlinewidth": 0,
              "ticks": ""
             }
            },
            "type": "scatter3d"
           }
          ],
          "scattercarpet": [
           {
            "marker": {
             "colorbar": {
              "outlinewidth": 0,
              "ticks": ""
             }
            },
            "type": "scattercarpet"
           }
          ],
          "scattergeo": [
           {
            "marker": {
             "colorbar": {
              "outlinewidth": 0,
              "ticks": ""
             }
            },
            "type": "scattergeo"
           }
          ],
          "scattergl": [
           {
            "marker": {
             "colorbar": {
              "outlinewidth": 0,
              "ticks": ""
             }
            },
            "type": "scattergl"
           }
          ],
          "scattermapbox": [
           {
            "marker": {
             "colorbar": {
              "outlinewidth": 0,
              "ticks": ""
             }
            },
            "type": "scattermapbox"
           }
          ],
          "scatterpolar": [
           {
            "marker": {
             "colorbar": {
              "outlinewidth": 0,
              "ticks": ""
             }
            },
            "type": "scatterpolar"
           }
          ],
          "scatterpolargl": [
           {
            "marker": {
             "colorbar": {
              "outlinewidth": 0,
              "ticks": ""
             }
            },
            "type": "scatterpolargl"
           }
          ],
          "scatterternary": [
           {
            "marker": {
             "colorbar": {
              "outlinewidth": 0,
              "ticks": ""
             }
            },
            "type": "scatterternary"
           }
          ],
          "surface": [
           {
            "colorbar": {
             "outlinewidth": 0,
             "ticks": ""
            },
            "colorscale": [
             [
              0,
              "#0d0887"
             ],
             [
              0.1111111111111111,
              "#46039f"
             ],
             [
              0.2222222222222222,
              "#7201a8"
             ],
             [
              0.3333333333333333,
              "#9c179e"
             ],
             [
              0.4444444444444444,
              "#bd3786"
             ],
             [
              0.5555555555555556,
              "#d8576b"
             ],
             [
              0.6666666666666666,
              "#ed7953"
             ],
             [
              0.7777777777777778,
              "#fb9f3a"
             ],
             [
              0.8888888888888888,
              "#fdca26"
             ],
             [
              1,
              "#f0f921"
             ]
            ],
            "type": "surface"
           }
          ],
          "table": [
           {
            "cells": {
             "fill": {
              "color": "#EBF0F8"
             },
             "line": {
              "color": "white"
             }
            },
            "header": {
             "fill": {
              "color": "#C8D4E3"
             },
             "line": {
              "color": "white"
             }
            },
            "type": "table"
           }
          ]
         },
         "layout": {
          "annotationdefaults": {
           "arrowcolor": "#2a3f5f",
           "arrowhead": 0,
           "arrowwidth": 1
          },
          "autotypenumbers": "strict",
          "coloraxis": {
           "colorbar": {
            "outlinewidth": 0,
            "ticks": ""
           }
          },
          "colorscale": {
           "diverging": [
            [
             0,
             "#8e0152"
            ],
            [
             0.1,
             "#c51b7d"
            ],
            [
             0.2,
             "#de77ae"
            ],
            [
             0.3,
             "#f1b6da"
            ],
            [
             0.4,
             "#fde0ef"
            ],
            [
             0.5,
             "#f7f7f7"
            ],
            [
             0.6,
             "#e6f5d0"
            ],
            [
             0.7,
             "#b8e186"
            ],
            [
             0.8,
             "#7fbc41"
            ],
            [
             0.9,
             "#4d9221"
            ],
            [
             1,
             "#276419"
            ]
           ],
           "sequential": [
            [
             0,
             "#0d0887"
            ],
            [
             0.1111111111111111,
             "#46039f"
            ],
            [
             0.2222222222222222,
             "#7201a8"
            ],
            [
             0.3333333333333333,
             "#9c179e"
            ],
            [
             0.4444444444444444,
             "#bd3786"
            ],
            [
             0.5555555555555556,
             "#d8576b"
            ],
            [
             0.6666666666666666,
             "#ed7953"
            ],
            [
             0.7777777777777778,
             "#fb9f3a"
            ],
            [
             0.8888888888888888,
             "#fdca26"
            ],
            [
             1,
             "#f0f921"
            ]
           ],
           "sequentialminus": [
            [
             0,
             "#0d0887"
            ],
            [
             0.1111111111111111,
             "#46039f"
            ],
            [
             0.2222222222222222,
             "#7201a8"
            ],
            [
             0.3333333333333333,
             "#9c179e"
            ],
            [
             0.4444444444444444,
             "#bd3786"
            ],
            [
             0.5555555555555556,
             "#d8576b"
            ],
            [
             0.6666666666666666,
             "#ed7953"
            ],
            [
             0.7777777777777778,
             "#fb9f3a"
            ],
            [
             0.8888888888888888,
             "#fdca26"
            ],
            [
             1,
             "#f0f921"
            ]
           ]
          },
          "colorway": [
           "#636efa",
           "#EF553B",
           "#00cc96",
           "#ab63fa",
           "#FFA15A",
           "#19d3f3",
           "#FF6692",
           "#B6E880",
           "#FF97FF",
           "#FECB52"
          ],
          "font": {
           "color": "#2a3f5f"
          },
          "geo": {
           "bgcolor": "white",
           "lakecolor": "white",
           "landcolor": "#E5ECF6",
           "showlakes": true,
           "showland": true,
           "subunitcolor": "white"
          },
          "hoverlabel": {
           "align": "left"
          },
          "hovermode": "closest",
          "mapbox": {
           "style": "light"
          },
          "paper_bgcolor": "white",
          "plot_bgcolor": "#E5ECF6",
          "polar": {
           "angularaxis": {
            "gridcolor": "white",
            "linecolor": "white",
            "ticks": ""
           },
           "bgcolor": "#E5ECF6",
           "radialaxis": {
            "gridcolor": "white",
            "linecolor": "white",
            "ticks": ""
           }
          },
          "scene": {
           "xaxis": {
            "backgroundcolor": "#E5ECF6",
            "gridcolor": "white",
            "gridwidth": 2,
            "linecolor": "white",
            "showbackground": true,
            "ticks": "",
            "zerolinecolor": "white"
           },
           "yaxis": {
            "backgroundcolor": "#E5ECF6",
            "gridcolor": "white",
            "gridwidth": 2,
            "linecolor": "white",
            "showbackground": true,
            "ticks": "",
            "zerolinecolor": "white"
           },
           "zaxis": {
            "backgroundcolor": "#E5ECF6",
            "gridcolor": "white",
            "gridwidth": 2,
            "linecolor": "white",
            "showbackground": true,
            "ticks": "",
            "zerolinecolor": "white"
           }
          },
          "shapedefaults": {
           "line": {
            "color": "#2a3f5f"
           }
          },
          "ternary": {
           "aaxis": {
            "gridcolor": "white",
            "linecolor": "white",
            "ticks": ""
           },
           "baxis": {
            "gridcolor": "white",
            "linecolor": "white",
            "ticks": ""
           },
           "bgcolor": "#E5ECF6",
           "caxis": {
            "gridcolor": "white",
            "linecolor": "white",
            "ticks": ""
           }
          },
          "title": {
           "x": 0.05
          },
          "xaxis": {
           "automargin": true,
           "gridcolor": "white",
           "linecolor": "white",
           "ticks": "",
           "title": {
            "standoff": 15
           },
           "zerolinecolor": "white",
           "zerolinewidth": 2
          },
          "yaxis": {
           "automargin": true,
           "gridcolor": "white",
           "linecolor": "white",
           "ticks": "",
           "title": {
            "standoff": 15
           },
           "zerolinecolor": "white",
           "zerolinewidth": 2
          }
         }
        },
        "title": {
         "text": "App Usage Time vs. Battery Drain"
        },
        "xaxis": {
         "anchor": "y",
         "domain": [
          0,
          1
         ],
         "title": {
          "text": "App Usage Time (min/day)"
         }
        },
        "yaxis": {
         "anchor": "x",
         "domain": [
          0,
          1
         ],
         "title": {
          "text": "Battery Drain (mAh/day)"
         }
        }
       }
      }
     },
     "metadata": {},
     "output_type": "display_data"
    }
   ],
   "source": [
    "# Chart 4: Scatter plot - Relationship between 'App Usage Time (min/day)' and 'Battery Drain (mAh/day)'\n",
    "scatter_data = df[['App Usage Time (min/day)', 'Battery Drain (mAh/day)']].to_dict('records')\n",
    "\n",
    "# Convert the list of dictionaries into a format Plotly can use\n",
    "df_scatter = pd.DataFrame(scatter_data)\n",
    "\n",
    "# Create scatter plot using Plotly Express\n",
    "fig = px.scatter(df_scatter, \n",
    "                 x='App Usage Time (min/day)', \n",
    "                 y='Battery Drain (mAh/day)', \n",
    "                 title='App Usage Time vs. Battery Drain',\n",
    "                 labels={'App Usage Time (min/day)': 'App Usage Time (min/day)', \n",
    "                         'Battery Drain (mAh/day)': 'Battery Drain (mAh/day)'})\n",
    "\n",
    "# Show the interactive plot\n",
    "fig.show()"
   ]
  },
  {
   "cell_type": "code",
   "execution_count": 19,
   "metadata": {},
   "outputs": [
    {
     "data": {
      "application/vnd.plotly.v1+json": {
       "config": {
        "plotlyServerURL": "https://plot.ly"
       },
       "data": [
        {
         "alignmentgroup": "True",
         "hovertemplate": "User Behavior Class=%{x}<br>Screen On Time (hours/day)=%{y}<extra></extra>",
         "legendgroup": "",
         "marker": {
          "color": "#636efa"
         },
         "name": "",
         "notched": false,
         "offsetgroup": "",
         "orientation": "v",
         "showlegend": false,
         "type": "box",
         "x": [
          1,
          1,
          1,
          1,
          1,
          1,
          1,
          1,
          1,
          1,
          1,
          1,
          1,
          1,
          1,
          1,
          1,
          1,
          1,
          1,
          1,
          1,
          1,
          1,
          1,
          1,
          1,
          1,
          1,
          1,
          1,
          1,
          1,
          1,
          1,
          1,
          1,
          1,
          1,
          1,
          1,
          1,
          1,
          1,
          1,
          1,
          1,
          1,
          1,
          1,
          1,
          1,
          1,
          1,
          1,
          1,
          1,
          1,
          1,
          1,
          1,
          1,
          1,
          1,
          1,
          1,
          1,
          1,
          1,
          1,
          1,
          1,
          1,
          1,
          1,
          1,
          1,
          1,
          1,
          1,
          1,
          1,
          1,
          1,
          1,
          1,
          1,
          1,
          1,
          1,
          1,
          1,
          1,
          1,
          1,
          1,
          1,
          1,
          1,
          1,
          1,
          1,
          1,
          1,
          1,
          1,
          1,
          1,
          1,
          1,
          1,
          1,
          1,
          1,
          1,
          1,
          1,
          1,
          1,
          1,
          1,
          1,
          1,
          1,
          1,
          1,
          1,
          1,
          1,
          1,
          1,
          1,
          1,
          1,
          1,
          1,
          2,
          2,
          2,
          2,
          2,
          2,
          2,
          2,
          2,
          2,
          2,
          2,
          2,
          2,
          2,
          2,
          2,
          2,
          2,
          2,
          2,
          2,
          2,
          2,
          2,
          2,
          2,
          2,
          2,
          2,
          2,
          2,
          2,
          2,
          2,
          2,
          2,
          2,
          2,
          2,
          2,
          2,
          2,
          2,
          2,
          2,
          2,
          2,
          2,
          2,
          2,
          2,
          2,
          2,
          2,
          2,
          2,
          2,
          2,
          2,
          2,
          2,
          2,
          2,
          2,
          2,
          2,
          2,
          2,
          2,
          2,
          2,
          2,
          2,
          2,
          2,
          2,
          2,
          2,
          2,
          2,
          2,
          2,
          2,
          2,
          2,
          2,
          2,
          2,
          2,
          2,
          2,
          2,
          2,
          2,
          2,
          2,
          2,
          2,
          2,
          2,
          2,
          2,
          2,
          2,
          2,
          2,
          2,
          2,
          2,
          2,
          2,
          2,
          2,
          2,
          2,
          2,
          2,
          2,
          2,
          2,
          2,
          2,
          2,
          2,
          2,
          2,
          2,
          2,
          2,
          2,
          2,
          2,
          2,
          2,
          2,
          2,
          2,
          2,
          2,
          2,
          2,
          2,
          2,
          2,
          2,
          3,
          3,
          3,
          3,
          3,
          3,
          3,
          3,
          3,
          3,
          3,
          3,
          3,
          3,
          3,
          3,
          3,
          3,
          3,
          3,
          3,
          3,
          3,
          3,
          3,
          3,
          3,
          3,
          3,
          3,
          3,
          3,
          3,
          3,
          3,
          3,
          3,
          3,
          3,
          3,
          3,
          3,
          3,
          3,
          3,
          3,
          3,
          3,
          3,
          3,
          3,
          3,
          3,
          3,
          3,
          3,
          3,
          3,
          3,
          3,
          3,
          3,
          3,
          3,
          3,
          3,
          3,
          3,
          3,
          3,
          3,
          3,
          3,
          3,
          3,
          3,
          3,
          3,
          3,
          3,
          3,
          3,
          3,
          3,
          3,
          3,
          3,
          3,
          3,
          3,
          3,
          3,
          3,
          3,
          3,
          3,
          3,
          3,
          3,
          3,
          3,
          3,
          3,
          3,
          3,
          3,
          3,
          3,
          3,
          3,
          3,
          3,
          3,
          3,
          3,
          3,
          3,
          3,
          3,
          3,
          3,
          3,
          3,
          3,
          3,
          3,
          3,
          3,
          3,
          3,
          3,
          3,
          3,
          3,
          3,
          3,
          3,
          3,
          3,
          3,
          3,
          3,
          3,
          4,
          4,
          4,
          4,
          4,
          4,
          4,
          4,
          4,
          4,
          4,
          4,
          4,
          4,
          4,
          4,
          4,
          4,
          4,
          4,
          4,
          4,
          4,
          4,
          4,
          4,
          4,
          4,
          4,
          4,
          4,
          4,
          4,
          4,
          4,
          4,
          4,
          4,
          4,
          4,
          4,
          4,
          4,
          4,
          4,
          4,
          4,
          4,
          4,
          4,
          4,
          4,
          4,
          4,
          4,
          4,
          4,
          4,
          4,
          4,
          4,
          4,
          4,
          4,
          4,
          4,
          4,
          4,
          4,
          4,
          4,
          4,
          4,
          4,
          4,
          4,
          4,
          4,
          4,
          4,
          4,
          4,
          4,
          4,
          4,
          4,
          4,
          4,
          4,
          4,
          4,
          4,
          4,
          4,
          4,
          4,
          4,
          4,
          4,
          4,
          4,
          4,
          4,
          4,
          4,
          4,
          4,
          4,
          4,
          4,
          4,
          4,
          4,
          4,
          4,
          4,
          4,
          4,
          4,
          4,
          4,
          4,
          4,
          4,
          4,
          4,
          4,
          4,
          4,
          4,
          4,
          4,
          4,
          4,
          4,
          4,
          4,
          4,
          4,
          5,
          5,
          5,
          5,
          5,
          5,
          5,
          5,
          5,
          5,
          5,
          5,
          5,
          5,
          5,
          5,
          5,
          5,
          5,
          5,
          5,
          5,
          5,
          5,
          5,
          5,
          5,
          5,
          5,
          5,
          5,
          5,
          5,
          5,
          5,
          5,
          5,
          5,
          5,
          5,
          5,
          5,
          5,
          5,
          5,
          5,
          5,
          5,
          5,
          5,
          5,
          5,
          5,
          5,
          5,
          5,
          5,
          5,
          5,
          5,
          5,
          5,
          5,
          5,
          5,
          5,
          5,
          5,
          5,
          5,
          5,
          5,
          5,
          5,
          5,
          5,
          5,
          5,
          5,
          5,
          5,
          5,
          5,
          5,
          5,
          5,
          5,
          5,
          5,
          5,
          5,
          5,
          5,
          5,
          5,
          5,
          5,
          5,
          5,
          5,
          5,
          5,
          5,
          5,
          5,
          5,
          5,
          5,
          5,
          5,
          5,
          5,
          5,
          5,
          5,
          5,
          5,
          5,
          5,
          5,
          5,
          5,
          5,
          5,
          5,
          5,
          5,
          5,
          5,
          5,
          5,
          5,
          5,
          5,
          5,
          5
         ],
         "x0": " ",
         "xaxis": "x",
         "y": [
          1.4,
          1.4,
          2,
          1.2,
          1.6,
          1.1,
          1.9,
          1.7,
          1.1,
          2,
          2,
          1.8,
          1.8,
          1.5,
          1.4,
          1.2,
          1.1,
          1.2,
          1.4,
          1.2,
          1.6,
          1,
          1.6,
          1.7,
          1.1,
          1.6,
          1.6,
          1.5,
          1.7,
          1.6,
          1.9,
          2,
          1.5,
          1.1,
          1.6,
          1.2,
          1.1,
          1.1,
          1.9,
          1.6,
          1.3,
          1.6,
          1.7,
          1.1,
          1.4,
          1.7,
          1.7,
          1.3,
          1.5,
          1.9,
          1.4,
          1.2,
          1.3,
          1.7,
          1.6,
          1.7,
          1.7,
          1.3,
          1.2,
          1.6,
          1.8,
          1.8,
          2,
          1.3,
          2,
          1.6,
          1.5,
          1.3,
          1.2,
          1,
          1.4,
          1.5,
          1.4,
          1.9,
          2,
          1.5,
          1.3,
          1.1,
          1.7,
          1.5,
          1.3,
          1.1,
          1.6,
          1.5,
          1.4,
          1.4,
          1.1,
          2,
          1.7,
          1.1,
          1.2,
          1.3,
          1.6,
          1.6,
          1,
          1.3,
          1.9,
          1.6,
          1.1,
          1.5,
          1.3,
          2,
          1.6,
          1.2,
          1.1,
          1.2,
          2,
          1.4,
          1.6,
          1.3,
          1.7,
          1.1,
          1.9,
          1.3,
          1.2,
          1.3,
          1.1,
          1.8,
          1.8,
          1.5,
          1.8,
          1.2,
          1.1,
          1.8,
          1.4,
          1.3,
          1.5,
          1.7,
          1.2,
          1.5,
          1.6,
          1.6,
          1.5,
          1.8,
          1.6,
          1.7,
          4,
          2,
          3.6,
          2.6,
          3.4,
          3.3,
          2.1,
          3.7,
          2.4,
          3.6,
          2.7,
          2.2,
          4,
          2.5,
          2.8,
          2.4,
          3.3,
          2.1,
          2.5,
          2.5,
          2.8,
          2.7,
          3.8,
          3.2,
          3.2,
          2.7,
          2.5,
          3.3,
          3.6,
          2.2,
          3.7,
          2,
          3.4,
          2.4,
          3.7,
          2.8,
          2.4,
          2,
          2.2,
          3.7,
          2.8,
          3.7,
          3.3,
          3.1,
          3.4,
          3.3,
          3.2,
          2,
          2.5,
          3.8,
          2.3,
          3.4,
          3.8,
          3.5,
          4,
          2.4,
          2.2,
          2.3,
          2.6,
          3.7,
          2.7,
          3.3,
          2.9,
          2.8,
          2.9,
          3,
          2.2,
          3.8,
          3.3,
          3.8,
          3.9,
          2.4,
          3,
          2.9,
          3,
          2,
          2.8,
          3.5,
          2.7,
          3.2,
          2,
          2.3,
          3.2,
          2.8,
          2.4,
          3.8,
          2.3,
          3.8,
          3.4,
          3,
          3.9,
          3,
          3.5,
          3.3,
          3.9,
          2.4,
          3.3,
          3,
          2.4,
          3.8,
          3.7,
          2.5,
          2.9,
          3.6,
          3.4,
          2.2,
          3.8,
          2.2,
          2.4,
          3,
          3.3,
          2.5,
          2.6,
          4,
          2.5,
          3.8,
          3.5,
          2.1,
          3.9,
          3.5,
          2.7,
          3.1,
          3.6,
          3.7,
          2.5,
          3,
          3,
          2.1,
          4,
          3.7,
          3.1,
          3.2,
          3.4,
          3.3,
          2.9,
          2,
          3.7,
          3.1,
          3.2,
          2.4,
          3.2,
          3.8,
          3.5,
          4,
          3.9,
          3.1,
          4.7,
          4.8,
          4.3,
          5.5,
          4.9,
          5.4,
          5.8,
          5.6,
          4,
          6,
          4.6,
          4.7,
          4.7,
          5.9,
          4,
          4.5,
          5.7,
          5.7,
          4.5,
          4.1,
          5.5,
          4.1,
          4.2,
          5.5,
          6,
          5.1,
          5.2,
          5.1,
          4.2,
          4.5,
          5.2,
          5.3,
          4.2,
          4.8,
          5.4,
          5.2,
          5.4,
          5.7,
          5.7,
          4.1,
          4.7,
          4.4,
          4.6,
          5.2,
          5,
          5,
          4,
          4.1,
          4.7,
          4.2,
          5.9,
          4.4,
          4,
          4.5,
          5.2,
          4.4,
          5,
          5.1,
          4.2,
          4.9,
          4.3,
          4.4,
          6,
          4.3,
          6,
          4.6,
          6,
          6,
          5.8,
          4.6,
          4.1,
          4.6,
          4.6,
          5.1,
          5,
          5.1,
          4.9,
          5,
          5.5,
          4.4,
          5.7,
          5.7,
          4,
          5.2,
          4.7,
          5.9,
          4.6,
          4.8,
          4,
          4.6,
          5,
          4.9,
          4.2,
          4.3,
          4.8,
          4.4,
          4.8,
          4.5,
          5.8,
          5.1,
          5.9,
          5.3,
          5.2,
          4.5,
          4.8,
          4.7,
          5.9,
          5.4,
          5.5,
          4.6,
          4.9,
          4.2,
          4.4,
          5.3,
          5.9,
          6,
          5.7,
          4.4,
          4.2,
          4.3,
          5.3,
          4,
          4.9,
          5.4,
          5.6,
          4.2,
          5,
          5,
          5.2,
          5.1,
          4.8,
          5.4,
          5.2,
          5.6,
          5.3,
          5.4,
          5.5,
          4.6,
          5.5,
          4,
          4.9,
          5.7,
          5.4,
          6.4,
          7.3,
          7.7,
          6.6,
          6.2,
          6.5,
          7.6,
          6.8,
          6.2,
          6.4,
          6.2,
          7.4,
          7,
          7.1,
          7.5,
          7,
          7.2,
          6.3,
          7.2,
          7.4,
          6.2,
          7.5,
          7.2,
          7.9,
          6.6,
          7.4,
          7.2,
          6.3,
          7.4,
          7.5,
          7.8,
          6.5,
          7.7,
          6.6,
          6.4,
          7.8,
          7.2,
          6.4,
          6.5,
          6.1,
          6.9,
          6.8,
          6.1,
          7,
          7.3,
          6.9,
          6.5,
          6.2,
          7.9,
          7,
          7.7,
          6.6,
          6.8,
          6.6,
          6.5,
          7.8,
          7.7,
          6.9,
          7.4,
          7.6,
          6.6,
          6.5,
          6,
          7.5,
          6.8,
          7.2,
          6.6,
          6.3,
          7.5,
          7.5,
          7.9,
          6.1,
          7.7,
          7.4,
          6.9,
          7.5,
          7.9,
          7.2,
          6,
          6.6,
          7.9,
          6.1,
          7.4,
          6.8,
          7.4,
          7.3,
          7.3,
          7.8,
          6.9,
          6.1,
          7.2,
          7.3,
          7.5,
          6.2,
          6.6,
          6,
          7.3,
          6.1,
          6.8,
          7.7,
          6.6,
          7.1,
          6.5,
          6.5,
          7.9,
          6.4,
          6.1,
          6.6,
          6.2,
          7.3,
          6.6,
          7.6,
          6.2,
          6.6,
          7.1,
          6.1,
          7.5,
          6.1,
          7.5,
          7.7,
          6.3,
          6,
          6,
          7,
          7.4,
          6.3,
          6.6,
          6.2,
          6.3,
          6.8,
          6.4,
          7.3,
          6.1,
          7.6,
          6.6,
          7.7,
          6.3,
          6.7,
          6.8,
          11.4,
          10.4,
          8.5,
          11.6,
          10.5,
          10.2,
          11.2,
          10.1,
          10.9,
          8.4,
          8.2,
          8.7,
          8.7,
          8.4,
          11.9,
          11.5,
          10.2,
          9,
          10.6,
          9.5,
          12,
          8.6,
          8.7,
          10,
          8.1,
          11.8,
          10.8,
          11.3,
          9.7,
          11.1,
          11.2,
          9.4,
          8.4,
          11.3,
          11.8,
          11.9,
          9.2,
          10.4,
          10.7,
          8.9,
          9.3,
          10.9,
          8.4,
          9.5,
          9.6,
          10.7,
          10.8,
          8.9,
          10,
          8.9,
          10.8,
          11.7,
          10.5,
          9,
          9.6,
          8.4,
          9.4,
          11.9,
          10.8,
          8.5,
          11.4,
          11.3,
          8.3,
          9.8,
          10.3,
          10.5,
          9.5,
          11.8,
          10.4,
          8.6,
          11.6,
          11.2,
          9.8,
          10.6,
          10.9,
          11.3,
          10.8,
          10.4,
          11.6,
          9.2,
          11.6,
          11.1,
          8.6,
          8.2,
          11.8,
          8.2,
          11.7,
          10.1,
          10.4,
          8.4,
          8.8,
          8.8,
          11.8,
          9,
          9.4,
          10.4,
          11.1,
          9.3,
          10.9,
          8.4,
          8.5,
          10,
          10.8,
          8.5,
          11.2,
          11.8,
          11.1,
          9.5,
          9.4,
          10.5,
          9.7,
          11.6,
          9.1,
          10.9,
          10.3,
          10,
          11.5,
          10.5,
          10.8,
          10.4,
          8.5,
          9.6,
          10.2,
          10.2,
          10.7,
          9.8,
          8.2,
          10.5,
          9.6,
          10.3,
          11.4,
          11.2,
          11.4,
          9.5,
          8.6,
          9.7
         ],
         "y0": " ",
         "yaxis": "y"
        }
       ],
       "layout": {
        "boxmode": "group",
        "legend": {
         "tracegroupgap": 0
        },
        "template": {
         "data": {
          "bar": [
           {
            "error_x": {
             "color": "#2a3f5f"
            },
            "error_y": {
             "color": "#2a3f5f"
            },
            "marker": {
             "line": {
              "color": "#E5ECF6",
              "width": 0.5
             },
             "pattern": {
              "fillmode": "overlay",
              "size": 10,
              "solidity": 0.2
             }
            },
            "type": "bar"
           }
          ],
          "barpolar": [
           {
            "marker": {
             "line": {
              "color": "#E5ECF6",
              "width": 0.5
             },
             "pattern": {
              "fillmode": "overlay",
              "size": 10,
              "solidity": 0.2
             }
            },
            "type": "barpolar"
           }
          ],
          "carpet": [
           {
            "aaxis": {
             "endlinecolor": "#2a3f5f",
             "gridcolor": "white",
             "linecolor": "white",
             "minorgridcolor": "white",
             "startlinecolor": "#2a3f5f"
            },
            "baxis": {
             "endlinecolor": "#2a3f5f",
             "gridcolor": "white",
             "linecolor": "white",
             "minorgridcolor": "white",
             "startlinecolor": "#2a3f5f"
            },
            "type": "carpet"
           }
          ],
          "choropleth": [
           {
            "colorbar": {
             "outlinewidth": 0,
             "ticks": ""
            },
            "type": "choropleth"
           }
          ],
          "contour": [
           {
            "colorbar": {
             "outlinewidth": 0,
             "ticks": ""
            },
            "colorscale": [
             [
              0,
              "#0d0887"
             ],
             [
              0.1111111111111111,
              "#46039f"
             ],
             [
              0.2222222222222222,
              "#7201a8"
             ],
             [
              0.3333333333333333,
              "#9c179e"
             ],
             [
              0.4444444444444444,
              "#bd3786"
             ],
             [
              0.5555555555555556,
              "#d8576b"
             ],
             [
              0.6666666666666666,
              "#ed7953"
             ],
             [
              0.7777777777777778,
              "#fb9f3a"
             ],
             [
              0.8888888888888888,
              "#fdca26"
             ],
             [
              1,
              "#f0f921"
             ]
            ],
            "type": "contour"
           }
          ],
          "contourcarpet": [
           {
            "colorbar": {
             "outlinewidth": 0,
             "ticks": ""
            },
            "type": "contourcarpet"
           }
          ],
          "heatmap": [
           {
            "colorbar": {
             "outlinewidth": 0,
             "ticks": ""
            },
            "colorscale": [
             [
              0,
              "#0d0887"
             ],
             [
              0.1111111111111111,
              "#46039f"
             ],
             [
              0.2222222222222222,
              "#7201a8"
             ],
             [
              0.3333333333333333,
              "#9c179e"
             ],
             [
              0.4444444444444444,
              "#bd3786"
             ],
             [
              0.5555555555555556,
              "#d8576b"
             ],
             [
              0.6666666666666666,
              "#ed7953"
             ],
             [
              0.7777777777777778,
              "#fb9f3a"
             ],
             [
              0.8888888888888888,
              "#fdca26"
             ],
             [
              1,
              "#f0f921"
             ]
            ],
            "type": "heatmap"
           }
          ],
          "heatmapgl": [
           {
            "colorbar": {
             "outlinewidth": 0,
             "ticks": ""
            },
            "colorscale": [
             [
              0,
              "#0d0887"
             ],
             [
              0.1111111111111111,
              "#46039f"
             ],
             [
              0.2222222222222222,
              "#7201a8"
             ],
             [
              0.3333333333333333,
              "#9c179e"
             ],
             [
              0.4444444444444444,
              "#bd3786"
             ],
             [
              0.5555555555555556,
              "#d8576b"
             ],
             [
              0.6666666666666666,
              "#ed7953"
             ],
             [
              0.7777777777777778,
              "#fb9f3a"
             ],
             [
              0.8888888888888888,
              "#fdca26"
             ],
             [
              1,
              "#f0f921"
             ]
            ],
            "type": "heatmapgl"
           }
          ],
          "histogram": [
           {
            "marker": {
             "pattern": {
              "fillmode": "overlay",
              "size": 10,
              "solidity": 0.2
             }
            },
            "type": "histogram"
           }
          ],
          "histogram2d": [
           {
            "colorbar": {
             "outlinewidth": 0,
             "ticks": ""
            },
            "colorscale": [
             [
              0,
              "#0d0887"
             ],
             [
              0.1111111111111111,
              "#46039f"
             ],
             [
              0.2222222222222222,
              "#7201a8"
             ],
             [
              0.3333333333333333,
              "#9c179e"
             ],
             [
              0.4444444444444444,
              "#bd3786"
             ],
             [
              0.5555555555555556,
              "#d8576b"
             ],
             [
              0.6666666666666666,
              "#ed7953"
             ],
             [
              0.7777777777777778,
              "#fb9f3a"
             ],
             [
              0.8888888888888888,
              "#fdca26"
             ],
             [
              1,
              "#f0f921"
             ]
            ],
            "type": "histogram2d"
           }
          ],
          "histogram2dcontour": [
           {
            "colorbar": {
             "outlinewidth": 0,
             "ticks": ""
            },
            "colorscale": [
             [
              0,
              "#0d0887"
             ],
             [
              0.1111111111111111,
              "#46039f"
             ],
             [
              0.2222222222222222,
              "#7201a8"
             ],
             [
              0.3333333333333333,
              "#9c179e"
             ],
             [
              0.4444444444444444,
              "#bd3786"
             ],
             [
              0.5555555555555556,
              "#d8576b"
             ],
             [
              0.6666666666666666,
              "#ed7953"
             ],
             [
              0.7777777777777778,
              "#fb9f3a"
             ],
             [
              0.8888888888888888,
              "#fdca26"
             ],
             [
              1,
              "#f0f921"
             ]
            ],
            "type": "histogram2dcontour"
           }
          ],
          "mesh3d": [
           {
            "colorbar": {
             "outlinewidth": 0,
             "ticks": ""
            },
            "type": "mesh3d"
           }
          ],
          "parcoords": [
           {
            "line": {
             "colorbar": {
              "outlinewidth": 0,
              "ticks": ""
             }
            },
            "type": "parcoords"
           }
          ],
          "pie": [
           {
            "automargin": true,
            "type": "pie"
           }
          ],
          "scatter": [
           {
            "fillpattern": {
             "fillmode": "overlay",
             "size": 10,
             "solidity": 0.2
            },
            "type": "scatter"
           }
          ],
          "scatter3d": [
           {
            "line": {
             "colorbar": {
              "outlinewidth": 0,
              "ticks": ""
             }
            },
            "marker": {
             "colorbar": {
              "outlinewidth": 0,
              "ticks": ""
             }
            },
            "type": "scatter3d"
           }
          ],
          "scattercarpet": [
           {
            "marker": {
             "colorbar": {
              "outlinewidth": 0,
              "ticks": ""
             }
            },
            "type": "scattercarpet"
           }
          ],
          "scattergeo": [
           {
            "marker": {
             "colorbar": {
              "outlinewidth": 0,
              "ticks": ""
             }
            },
            "type": "scattergeo"
           }
          ],
          "scattergl": [
           {
            "marker": {
             "colorbar": {
              "outlinewidth": 0,
              "ticks": ""
             }
            },
            "type": "scattergl"
           }
          ],
          "scattermapbox": [
           {
            "marker": {
             "colorbar": {
              "outlinewidth": 0,
              "ticks": ""
             }
            },
            "type": "scattermapbox"
           }
          ],
          "scatterpolar": [
           {
            "marker": {
             "colorbar": {
              "outlinewidth": 0,
              "ticks": ""
             }
            },
            "type": "scatterpolar"
           }
          ],
          "scatterpolargl": [
           {
            "marker": {
             "colorbar": {
              "outlinewidth": 0,
              "ticks": ""
             }
            },
            "type": "scatterpolargl"
           }
          ],
          "scatterternary": [
           {
            "marker": {
             "colorbar": {
              "outlinewidth": 0,
              "ticks": ""
             }
            },
            "type": "scatterternary"
           }
          ],
          "surface": [
           {
            "colorbar": {
             "outlinewidth": 0,
             "ticks": ""
            },
            "colorscale": [
             [
              0,
              "#0d0887"
             ],
             [
              0.1111111111111111,
              "#46039f"
             ],
             [
              0.2222222222222222,
              "#7201a8"
             ],
             [
              0.3333333333333333,
              "#9c179e"
             ],
             [
              0.4444444444444444,
              "#bd3786"
             ],
             [
              0.5555555555555556,
              "#d8576b"
             ],
             [
              0.6666666666666666,
              "#ed7953"
             ],
             [
              0.7777777777777778,
              "#fb9f3a"
             ],
             [
              0.8888888888888888,
              "#fdca26"
             ],
             [
              1,
              "#f0f921"
             ]
            ],
            "type": "surface"
           }
          ],
          "table": [
           {
            "cells": {
             "fill": {
              "color": "#EBF0F8"
             },
             "line": {
              "color": "white"
             }
            },
            "header": {
             "fill": {
              "color": "#C8D4E3"
             },
             "line": {
              "color": "white"
             }
            },
            "type": "table"
           }
          ]
         },
         "layout": {
          "annotationdefaults": {
           "arrowcolor": "#2a3f5f",
           "arrowhead": 0,
           "arrowwidth": 1
          },
          "autotypenumbers": "strict",
          "coloraxis": {
           "colorbar": {
            "outlinewidth": 0,
            "ticks": ""
           }
          },
          "colorscale": {
           "diverging": [
            [
             0,
             "#8e0152"
            ],
            [
             0.1,
             "#c51b7d"
            ],
            [
             0.2,
             "#de77ae"
            ],
            [
             0.3,
             "#f1b6da"
            ],
            [
             0.4,
             "#fde0ef"
            ],
            [
             0.5,
             "#f7f7f7"
            ],
            [
             0.6,
             "#e6f5d0"
            ],
            [
             0.7,
             "#b8e186"
            ],
            [
             0.8,
             "#7fbc41"
            ],
            [
             0.9,
             "#4d9221"
            ],
            [
             1,
             "#276419"
            ]
           ],
           "sequential": [
            [
             0,
             "#0d0887"
            ],
            [
             0.1111111111111111,
             "#46039f"
            ],
            [
             0.2222222222222222,
             "#7201a8"
            ],
            [
             0.3333333333333333,
             "#9c179e"
            ],
            [
             0.4444444444444444,
             "#bd3786"
            ],
            [
             0.5555555555555556,
             "#d8576b"
            ],
            [
             0.6666666666666666,
             "#ed7953"
            ],
            [
             0.7777777777777778,
             "#fb9f3a"
            ],
            [
             0.8888888888888888,
             "#fdca26"
            ],
            [
             1,
             "#f0f921"
            ]
           ],
           "sequentialminus": [
            [
             0,
             "#0d0887"
            ],
            [
             0.1111111111111111,
             "#46039f"
            ],
            [
             0.2222222222222222,
             "#7201a8"
            ],
            [
             0.3333333333333333,
             "#9c179e"
            ],
            [
             0.4444444444444444,
             "#bd3786"
            ],
            [
             0.5555555555555556,
             "#d8576b"
            ],
            [
             0.6666666666666666,
             "#ed7953"
            ],
            [
             0.7777777777777778,
             "#fb9f3a"
            ],
            [
             0.8888888888888888,
             "#fdca26"
            ],
            [
             1,
             "#f0f921"
            ]
           ]
          },
          "colorway": [
           "#636efa",
           "#EF553B",
           "#00cc96",
           "#ab63fa",
           "#FFA15A",
           "#19d3f3",
           "#FF6692",
           "#B6E880",
           "#FF97FF",
           "#FECB52"
          ],
          "font": {
           "color": "#2a3f5f"
          },
          "geo": {
           "bgcolor": "white",
           "lakecolor": "white",
           "landcolor": "#E5ECF6",
           "showlakes": true,
           "showland": true,
           "subunitcolor": "white"
          },
          "hoverlabel": {
           "align": "left"
          },
          "hovermode": "closest",
          "mapbox": {
           "style": "light"
          },
          "paper_bgcolor": "white",
          "plot_bgcolor": "#E5ECF6",
          "polar": {
           "angularaxis": {
            "gridcolor": "white",
            "linecolor": "white",
            "ticks": ""
           },
           "bgcolor": "#E5ECF6",
           "radialaxis": {
            "gridcolor": "white",
            "linecolor": "white",
            "ticks": ""
           }
          },
          "scene": {
           "xaxis": {
            "backgroundcolor": "#E5ECF6",
            "gridcolor": "white",
            "gridwidth": 2,
            "linecolor": "white",
            "showbackground": true,
            "ticks": "",
            "zerolinecolor": "white"
           },
           "yaxis": {
            "backgroundcolor": "#E5ECF6",
            "gridcolor": "white",
            "gridwidth": 2,
            "linecolor": "white",
            "showbackground": true,
            "ticks": "",
            "zerolinecolor": "white"
           },
           "zaxis": {
            "backgroundcolor": "#E5ECF6",
            "gridcolor": "white",
            "gridwidth": 2,
            "linecolor": "white",
            "showbackground": true,
            "ticks": "",
            "zerolinecolor": "white"
           }
          },
          "shapedefaults": {
           "line": {
            "color": "#2a3f5f"
           }
          },
          "ternary": {
           "aaxis": {
            "gridcolor": "white",
            "linecolor": "white",
            "ticks": ""
           },
           "baxis": {
            "gridcolor": "white",
            "linecolor": "white",
            "ticks": ""
           },
           "bgcolor": "#E5ECF6",
           "caxis": {
            "gridcolor": "white",
            "linecolor": "white",
            "ticks": ""
           }
          },
          "title": {
           "x": 0.05
          },
          "xaxis": {
           "automargin": true,
           "gridcolor": "white",
           "linecolor": "white",
           "ticks": "",
           "title": {
            "standoff": 15
           },
           "zerolinecolor": "white",
           "zerolinewidth": 2
          },
          "yaxis": {
           "automargin": true,
           "gridcolor": "white",
           "linecolor": "white",
           "ticks": "",
           "title": {
            "standoff": 15
           },
           "zerolinecolor": "white",
           "zerolinewidth": 2
          }
         }
        },
        "title": {
         "text": "Distribution of Screen On Time by User Behavior Class"
        },
        "xaxis": {
         "anchor": "y",
         "domain": [
          0,
          1
         ],
         "title": {
          "text": "User Behavior Class"
         }
        },
        "yaxis": {
         "anchor": "x",
         "domain": [
          0,
          1
         ],
         "title": {
          "text": "Screen On Time (hours/day)"
         }
        }
       }
      }
     },
     "metadata": {},
     "output_type": "display_data"
    }
   ],
   "source": [
    "# Chart 5: Box Plot - Distribution of 'Screen On Time (hours/day)' for each 'User Behavior Class'\n",
    "box_plot_data = df.groupby('User Behavior Class')['Screen On Time (hours/day)'].apply(list).to_dict()\n",
    "\n",
    "# Convert the dictionary into a DataFrame for Plotly\n",
    "df_boxplot = pd.DataFrame({\n",
    "    'User Behavior Class': [key for key in box_plot_data for _ in box_plot_data[key]],\n",
    "    'Screen On Time (hours/day)': [value for values in box_plot_data.values() for value in values]\n",
    "})\n",
    "\n",
    "# Create the box plot using Plotly Express\n",
    "fig = px.box(df_boxplot, \n",
    "             x='User Behavior Class', \n",
    "             y='Screen On Time (hours/day)', \n",
    "             title='Distribution of Screen On Time by User Behavior Class',\n",
    "             labels={'User Behavior Class': 'User Behavior Class',\n",
    "                     'Screen On Time (hours/day)': 'Screen On Time (hours/day)'})\n",
    "\n",
    "# Customize layout (optional)\n",
    "fig.update_layout(\n",
    "    xaxis_title='User Behavior Class',\n",
    "    yaxis_title='Screen On Time (hours/day)',\n",
    "    boxmode='group'  # Group the boxes for each category\n",
    ")\n",
    "\n",
    "# Show the interactive box plot\n",
    "fig.show()"
   ]
  },
  {
   "cell_type": "code",
   "execution_count": 25,
   "metadata": {},
   "outputs": [
    {
     "data": {
      "application/vnd.plotly.v1+json": {
       "config": {
        "plotlyServerURL": "https://plot.ly"
       },
       "data": [
        {
         "coloraxis": "coloraxis",
         "hovertemplate": "x: %{x}<br>y: %{y}<br>color: %{z}<extra></extra>",
         "name": "0",
         "texttemplate": "%{z}",
         "type": "heatmap",
         "x": [
          "User ID",
          "App Usage Time (min/day)",
          "Screen On Time (hours/day)",
          "Battery Drain (mAh/day)",
          "Number of Apps Installed",
          "Data Usage (MB/day)",
          "Age",
          "User Behavior Class"
         ],
         "xaxis": "x",
         "y": [
          "User ID",
          "App Usage Time (min/day)",
          "Screen On Time (hours/day)",
          "Battery Drain (mAh/day)",
          "Number of Apps Installed",
          "Data Usage (MB/day)",
          "Age",
          "User Behavior Class"
         ],
         "yaxis": "y",
         "z": [
          [
           1,
           -0.024957284320164787,
           -0.014286682397760292,
           -0.01937677742247256,
           -0.023914197214718668,
           -0.014526918513797919,
           0.04518849096560483,
           -0.016241957295296726
          ],
          [
           -0.024957284320164787,
           1,
           0.950333035725356,
           0.9563849528302286,
           0.9552528344225479,
           0.9423075276621922,
           0.004382235233494244,
           0.970497678848587
          ],
          [
           -0.014286682397760292,
           0.950333035725356,
           1,
           0.9489831361266123,
           0.9469751487900793,
           0.941322017802237,
           0.01723222793284572,
           0.9645808825388906
          ],
          [
           -0.01937677742247256,
           0.9563849528302286,
           0.9489831361266123,
           1,
           0.9618532619047171,
           0.9322757642560355,
           -0.002722411868857473,
           0.9785871211990456
          ],
          [
           -0.023914197214718668,
           0.9552528344225479,
           0.9469751487900793,
           0.9618532619047171,
           1,
           0.9347999754105196,
           0.004034041712575188,
           0.9812551430848151
          ],
          [
           -0.014526918513797919,
           0.9423075276621922,
           0.941322017802237,
           0.9322757642560355,
           0.9347999754105196,
           1,
           0.003998949266861984,
           0.9467338349891816
          ],
          [
           0.04518849096560483,
           0.004382235233494244,
           0.01723222793284572,
           -0.002722411868857473,
           0.004034041712575188,
           0.003998949266861984,
           1,
           -0.0005625313959512491
          ],
          [
           -0.016241957295296726,
           0.970497678848587,
           0.9645808825388906,
           0.9785871211990456,
           0.9812551430848151,
           0.9467338349891816,
           -0.0005625313959512491,
           1
          ]
         ]
        }
       ],
       "layout": {
        "coloraxis": {
         "cmax": 1,
         "cmin": -1,
         "colorscale": [
          [
           0,
           "blue"
          ],
          [
           0.5,
           "grey"
          ],
          [
           1,
           "red"
          ]
         ]
        },
        "template": {
         "data": {
          "bar": [
           {
            "error_x": {
             "color": "#2a3f5f"
            },
            "error_y": {
             "color": "#2a3f5f"
            },
            "marker": {
             "line": {
              "color": "#E5ECF6",
              "width": 0.5
             },
             "pattern": {
              "fillmode": "overlay",
              "size": 10,
              "solidity": 0.2
             }
            },
            "type": "bar"
           }
          ],
          "barpolar": [
           {
            "marker": {
             "line": {
              "color": "#E5ECF6",
              "width": 0.5
             },
             "pattern": {
              "fillmode": "overlay",
              "size": 10,
              "solidity": 0.2
             }
            },
            "type": "barpolar"
           }
          ],
          "carpet": [
           {
            "aaxis": {
             "endlinecolor": "#2a3f5f",
             "gridcolor": "white",
             "linecolor": "white",
             "minorgridcolor": "white",
             "startlinecolor": "#2a3f5f"
            },
            "baxis": {
             "endlinecolor": "#2a3f5f",
             "gridcolor": "white",
             "linecolor": "white",
             "minorgridcolor": "white",
             "startlinecolor": "#2a3f5f"
            },
            "type": "carpet"
           }
          ],
          "choropleth": [
           {
            "colorbar": {
             "outlinewidth": 0,
             "ticks": ""
            },
            "type": "choropleth"
           }
          ],
          "contour": [
           {
            "colorbar": {
             "outlinewidth": 0,
             "ticks": ""
            },
            "colorscale": [
             [
              0,
              "#0d0887"
             ],
             [
              0.1111111111111111,
              "#46039f"
             ],
             [
              0.2222222222222222,
              "#7201a8"
             ],
             [
              0.3333333333333333,
              "#9c179e"
             ],
             [
              0.4444444444444444,
              "#bd3786"
             ],
             [
              0.5555555555555556,
              "#d8576b"
             ],
             [
              0.6666666666666666,
              "#ed7953"
             ],
             [
              0.7777777777777778,
              "#fb9f3a"
             ],
             [
              0.8888888888888888,
              "#fdca26"
             ],
             [
              1,
              "#f0f921"
             ]
            ],
            "type": "contour"
           }
          ],
          "contourcarpet": [
           {
            "colorbar": {
             "outlinewidth": 0,
             "ticks": ""
            },
            "type": "contourcarpet"
           }
          ],
          "heatmap": [
           {
            "colorbar": {
             "outlinewidth": 0,
             "ticks": ""
            },
            "colorscale": [
             [
              0,
              "#0d0887"
             ],
             [
              0.1111111111111111,
              "#46039f"
             ],
             [
              0.2222222222222222,
              "#7201a8"
             ],
             [
              0.3333333333333333,
              "#9c179e"
             ],
             [
              0.4444444444444444,
              "#bd3786"
             ],
             [
              0.5555555555555556,
              "#d8576b"
             ],
             [
              0.6666666666666666,
              "#ed7953"
             ],
             [
              0.7777777777777778,
              "#fb9f3a"
             ],
             [
              0.8888888888888888,
              "#fdca26"
             ],
             [
              1,
              "#f0f921"
             ]
            ],
            "type": "heatmap"
           }
          ],
          "heatmapgl": [
           {
            "colorbar": {
             "outlinewidth": 0,
             "ticks": ""
            },
            "colorscale": [
             [
              0,
              "#0d0887"
             ],
             [
              0.1111111111111111,
              "#46039f"
             ],
             [
              0.2222222222222222,
              "#7201a8"
             ],
             [
              0.3333333333333333,
              "#9c179e"
             ],
             [
              0.4444444444444444,
              "#bd3786"
             ],
             [
              0.5555555555555556,
              "#d8576b"
             ],
             [
              0.6666666666666666,
              "#ed7953"
             ],
             [
              0.7777777777777778,
              "#fb9f3a"
             ],
             [
              0.8888888888888888,
              "#fdca26"
             ],
             [
              1,
              "#f0f921"
             ]
            ],
            "type": "heatmapgl"
           }
          ],
          "histogram": [
           {
            "marker": {
             "pattern": {
              "fillmode": "overlay",
              "size": 10,
              "solidity": 0.2
             }
            },
            "type": "histogram"
           }
          ],
          "histogram2d": [
           {
            "colorbar": {
             "outlinewidth": 0,
             "ticks": ""
            },
            "colorscale": [
             [
              0,
              "#0d0887"
             ],
             [
              0.1111111111111111,
              "#46039f"
             ],
             [
              0.2222222222222222,
              "#7201a8"
             ],
             [
              0.3333333333333333,
              "#9c179e"
             ],
             [
              0.4444444444444444,
              "#bd3786"
             ],
             [
              0.5555555555555556,
              "#d8576b"
             ],
             [
              0.6666666666666666,
              "#ed7953"
             ],
             [
              0.7777777777777778,
              "#fb9f3a"
             ],
             [
              0.8888888888888888,
              "#fdca26"
             ],
             [
              1,
              "#f0f921"
             ]
            ],
            "type": "histogram2d"
           }
          ],
          "histogram2dcontour": [
           {
            "colorbar": {
             "outlinewidth": 0,
             "ticks": ""
            },
            "colorscale": [
             [
              0,
              "#0d0887"
             ],
             [
              0.1111111111111111,
              "#46039f"
             ],
             [
              0.2222222222222222,
              "#7201a8"
             ],
             [
              0.3333333333333333,
              "#9c179e"
             ],
             [
              0.4444444444444444,
              "#bd3786"
             ],
             [
              0.5555555555555556,
              "#d8576b"
             ],
             [
              0.6666666666666666,
              "#ed7953"
             ],
             [
              0.7777777777777778,
              "#fb9f3a"
             ],
             [
              0.8888888888888888,
              "#fdca26"
             ],
             [
              1,
              "#f0f921"
             ]
            ],
            "type": "histogram2dcontour"
           }
          ],
          "mesh3d": [
           {
            "colorbar": {
             "outlinewidth": 0,
             "ticks": ""
            },
            "type": "mesh3d"
           }
          ],
          "parcoords": [
           {
            "line": {
             "colorbar": {
              "outlinewidth": 0,
              "ticks": ""
             }
            },
            "type": "parcoords"
           }
          ],
          "pie": [
           {
            "automargin": true,
            "type": "pie"
           }
          ],
          "scatter": [
           {
            "fillpattern": {
             "fillmode": "overlay",
             "size": 10,
             "solidity": 0.2
            },
            "type": "scatter"
           }
          ],
          "scatter3d": [
           {
            "line": {
             "colorbar": {
              "outlinewidth": 0,
              "ticks": ""
             }
            },
            "marker": {
             "colorbar": {
              "outlinewidth": 0,
              "ticks": ""
             }
            },
            "type": "scatter3d"
           }
          ],
          "scattercarpet": [
           {
            "marker": {
             "colorbar": {
              "outlinewidth": 0,
              "ticks": ""
             }
            },
            "type": "scattercarpet"
           }
          ],
          "scattergeo": [
           {
            "marker": {
             "colorbar": {
              "outlinewidth": 0,
              "ticks": ""
             }
            },
            "type": "scattergeo"
           }
          ],
          "scattergl": [
           {
            "marker": {
             "colorbar": {
              "outlinewidth": 0,
              "ticks": ""
             }
            },
            "type": "scattergl"
           }
          ],
          "scattermapbox": [
           {
            "marker": {
             "colorbar": {
              "outlinewidth": 0,
              "ticks": ""
             }
            },
            "type": "scattermapbox"
           }
          ],
          "scatterpolar": [
           {
            "marker": {
             "colorbar": {
              "outlinewidth": 0,
              "ticks": ""
             }
            },
            "type": "scatterpolar"
           }
          ],
          "scatterpolargl": [
           {
            "marker": {
             "colorbar": {
              "outlinewidth": 0,
              "ticks": ""
             }
            },
            "type": "scatterpolargl"
           }
          ],
          "scatterternary": [
           {
            "marker": {
             "colorbar": {
              "outlinewidth": 0,
              "ticks": ""
             }
            },
            "type": "scatterternary"
           }
          ],
          "surface": [
           {
            "colorbar": {
             "outlinewidth": 0,
             "ticks": ""
            },
            "colorscale": [
             [
              0,
              "#0d0887"
             ],
             [
              0.1111111111111111,
              "#46039f"
             ],
             [
              0.2222222222222222,
              "#7201a8"
             ],
             [
              0.3333333333333333,
              "#9c179e"
             ],
             [
              0.4444444444444444,
              "#bd3786"
             ],
             [
              0.5555555555555556,
              "#d8576b"
             ],
             [
              0.6666666666666666,
              "#ed7953"
             ],
             [
              0.7777777777777778,
              "#fb9f3a"
             ],
             [
              0.8888888888888888,
              "#fdca26"
             ],
             [
              1,
              "#f0f921"
             ]
            ],
            "type": "surface"
           }
          ],
          "table": [
           {
            "cells": {
             "fill": {
              "color": "#EBF0F8"
             },
             "line": {
              "color": "white"
             }
            },
            "header": {
             "fill": {
              "color": "#C8D4E3"
             },
             "line": {
              "color": "white"
             }
            },
            "type": "table"
           }
          ]
         },
         "layout": {
          "annotationdefaults": {
           "arrowcolor": "#2a3f5f",
           "arrowhead": 0,
           "arrowwidth": 1
          },
          "autotypenumbers": "strict",
          "coloraxis": {
           "colorbar": {
            "outlinewidth": 0,
            "ticks": ""
           }
          },
          "colorscale": {
           "diverging": [
            [
             0,
             "#8e0152"
            ],
            [
             0.1,
             "#c51b7d"
            ],
            [
             0.2,
             "#de77ae"
            ],
            [
             0.3,
             "#f1b6da"
            ],
            [
             0.4,
             "#fde0ef"
            ],
            [
             0.5,
             "#f7f7f7"
            ],
            [
             0.6,
             "#e6f5d0"
            ],
            [
             0.7,
             "#b8e186"
            ],
            [
             0.8,
             "#7fbc41"
            ],
            [
             0.9,
             "#4d9221"
            ],
            [
             1,
             "#276419"
            ]
           ],
           "sequential": [
            [
             0,
             "#0d0887"
            ],
            [
             0.1111111111111111,
             "#46039f"
            ],
            [
             0.2222222222222222,
             "#7201a8"
            ],
            [
             0.3333333333333333,
             "#9c179e"
            ],
            [
             0.4444444444444444,
             "#bd3786"
            ],
            [
             0.5555555555555556,
             "#d8576b"
            ],
            [
             0.6666666666666666,
             "#ed7953"
            ],
            [
             0.7777777777777778,
             "#fb9f3a"
            ],
            [
             0.8888888888888888,
             "#fdca26"
            ],
            [
             1,
             "#f0f921"
            ]
           ],
           "sequentialminus": [
            [
             0,
             "#0d0887"
            ],
            [
             0.1111111111111111,
             "#46039f"
            ],
            [
             0.2222222222222222,
             "#7201a8"
            ],
            [
             0.3333333333333333,
             "#9c179e"
            ],
            [
             0.4444444444444444,
             "#bd3786"
            ],
            [
             0.5555555555555556,
             "#d8576b"
            ],
            [
             0.6666666666666666,
             "#ed7953"
            ],
            [
             0.7777777777777778,
             "#fb9f3a"
            ],
            [
             0.8888888888888888,
             "#fdca26"
            ],
            [
             1,
             "#f0f921"
            ]
           ]
          },
          "colorway": [
           "#636efa",
           "#EF553B",
           "#00cc96",
           "#ab63fa",
           "#FFA15A",
           "#19d3f3",
           "#FF6692",
           "#B6E880",
           "#FF97FF",
           "#FECB52"
          ],
          "font": {
           "color": "#2a3f5f"
          },
          "geo": {
           "bgcolor": "white",
           "lakecolor": "white",
           "landcolor": "#E5ECF6",
           "showlakes": true,
           "showland": true,
           "subunitcolor": "white"
          },
          "hoverlabel": {
           "align": "left"
          },
          "hovermode": "closest",
          "mapbox": {
           "style": "light"
          },
          "paper_bgcolor": "white",
          "plot_bgcolor": "#E5ECF6",
          "polar": {
           "angularaxis": {
            "gridcolor": "white",
            "linecolor": "white",
            "ticks": ""
           },
           "bgcolor": "#E5ECF6",
           "radialaxis": {
            "gridcolor": "white",
            "linecolor": "white",
            "ticks": ""
           }
          },
          "scene": {
           "xaxis": {
            "backgroundcolor": "#E5ECF6",
            "gridcolor": "white",
            "gridwidth": 2,
            "linecolor": "white",
            "showbackground": true,
            "ticks": "",
            "zerolinecolor": "white"
           },
           "yaxis": {
            "backgroundcolor": "#E5ECF6",
            "gridcolor": "white",
            "gridwidth": 2,
            "linecolor": "white",
            "showbackground": true,
            "ticks": "",
            "zerolinecolor": "white"
           },
           "zaxis": {
            "backgroundcolor": "#E5ECF6",
            "gridcolor": "white",
            "gridwidth": 2,
            "linecolor": "white",
            "showbackground": true,
            "ticks": "",
            "zerolinecolor": "white"
           }
          },
          "shapedefaults": {
           "line": {
            "color": "#2a3f5f"
           }
          },
          "ternary": {
           "aaxis": {
            "gridcolor": "white",
            "linecolor": "white",
            "ticks": ""
           },
           "baxis": {
            "gridcolor": "white",
            "linecolor": "white",
            "ticks": ""
           },
           "bgcolor": "#E5ECF6",
           "caxis": {
            "gridcolor": "white",
            "linecolor": "white",
            "ticks": ""
           }
          },
          "title": {
           "x": 0.05
          },
          "xaxis": {
           "automargin": true,
           "gridcolor": "white",
           "linecolor": "white",
           "ticks": "",
           "title": {
            "standoff": 15
           },
           "zerolinecolor": "white",
           "zerolinewidth": 2
          },
          "yaxis": {
           "automargin": true,
           "gridcolor": "white",
           "linecolor": "white",
           "ticks": "",
           "title": {
            "standoff": 15
           },
           "zerolinecolor": "white",
           "zerolinewidth": 2
          }
         }
        },
        "title": {
         "text": "Correlation Matrix Heatmap"
        },
        "xaxis": {
         "anchor": "y",
         "domain": [
          0,
          1
         ],
         "title": {
          "text": "Numeric Columns"
         }
        },
        "yaxis": {
         "anchor": "x",
         "autorange": "reversed",
         "domain": [
          0,
          1
         ],
         "title": {
          "text": "Numeric Columns"
         }
        }
       }
      }
     },
     "metadata": {},
     "output_type": "display_data"
    }
   ],
   "source": [
    "# Chart 6: Heatmap - Correlation between all the numerical variables in the dataset.\n",
    "numeric_columns = df.select_dtypes(include=[np.number]).columns.tolist()\n",
    "correlation_data = df[numeric_columns].corr()\n",
    "\n",
    "color_scale = [\n",
    "    [0, 'blue'],  # -1 -> blue\n",
    "    [0.5, 'grey'],  # 0 -> grey\n",
    "    [1, 'red']  # 1 -> red\n",
    "]\n",
    "\n",
    "# Create a heatmap using Plotly with the custom color scale\n",
    "fig = px.imshow(correlation_data, \n",
    "                text_auto=True,  # Display correlation values on the heatmap\n",
    "                aspect=\"auto\",   # Automatically adjusts the aspect ratio\n",
    "                title=\"Correlation Matrix Heatmap\",\n",
    "                color_continuous_scale=color_scale,\n",
    "                zmin=-1,  # Set minimum value for color scale\n",
    "                zmax=1)   # Set maximum value for color scale\n",
    "\n",
    "# Customize layout\n",
    "fig.update_layout(\n",
    "    xaxis_title=\"Numeric Columns\",\n",
    "    yaxis_title=\"Numeric Columns\"\n",
    ")\n",
    "\n",
    "# Show the interactive heatmap\n",
    "fig.show()"
   ]
  }
 ],
 "metadata": {
  "kernelspec": {
   "display_name": "mobile_user_engage",
   "language": "python",
   "name": "python3"
  },
  "language_info": {
   "codemirror_mode": {
    "name": "ipython",
    "version": 3
   },
   "file_extension": ".py",
   "mimetype": "text/x-python",
   "name": "python",
   "nbconvert_exporter": "python",
   "pygments_lexer": "ipython3",
   "version": "3.11.10"
  }
 },
 "nbformat": 4,
 "nbformat_minor": 2
}
